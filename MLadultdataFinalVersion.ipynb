{
 "cells": [
  {
   "cell_type": "code",
   "execution_count": 57,
   "id": "7462b0d5-c59f-4cf8-b3e5-8fdc5b0ee7d6",
   "metadata": {},
   "outputs": [],
   "source": [
    "import pandas as pd\n",
    "import numpy as np\n",
    "import sqlite3\n",
    "import matplotlib.pyplot as plt\n",
    "import random\n",
    "import datetime\n",
    "from scipy import stats\n",
    "import plotly.express as px\n",
    "import seaborn as sns\n",
    "from sklearn.preprocessing import LabelEncoder\n",
    "from sklearn.model_selection import train_test_split\n",
    "from sklearn.preprocessing import LabelEncoder, StandardScaler\n",
    "from sklearn.feature_selection import SelectKBest, chi2\n",
    "from sklearn.feature_selection import RFE\n"
   ]
  },
  {
   "cell_type": "code",
   "execution_count": 58,
   "id": "fa58f147-81eb-429d-9c58-2e28a36fa965",
   "metadata": {},
   "outputs": [],
   "source": [
    "from sklearn.linear_model import LogisticRegression\n",
    "\n",
    "from sklearn.naive_bayes import GaussianNB\n",
    "from sklearn.naive_bayes import GaussianNB\n",
    "from sklearn.neural_network import MLPClassifier\n",
    "from sklearn.neighbors import KNeighborsClassifier\n",
    "from sklearn.ensemble import RandomForestClassifier\n",
    "from sklearn.tree import DecisionTreeClassifier\n",
    "from xgboost import XGBClassifier\n",
    "from sklearn.svm import SVC\n",
    "from sklearn.metrics import accuracy_score, confusion_matrix, classification_report,precision_score,recall_score,f1_score\n",
    "import xgboost as xgb"
   ]
  },
  {
   "cell_type": "code",
   "execution_count": 59,
   "id": "b43352aa-07f5-4510-ae75-f810048d79ac",
   "metadata": {},
   "outputs": [
    {
     "name": "stdout",
     "output_type": "stream",
     "text": [
      "Requirement already satisfied: ucimlrepo in c:\\users\\rames\\anaconda3\\lib\\site-packages (0.0.7)\n",
      "Requirement already satisfied: pandas>=1.0.0 in c:\\users\\rames\\anaconda3\\lib\\site-packages (from ucimlrepo) (2.1.4)\n",
      "Requirement already satisfied: certifi>=2020.12.5 in c:\\users\\rames\\anaconda3\\lib\\site-packages (from ucimlrepo) (2024.2.2)\n",
      "Requirement already satisfied: numpy<2,>=1.23.2 in c:\\users\\rames\\anaconda3\\lib\\site-packages (from pandas>=1.0.0->ucimlrepo) (1.26.4)\n",
      "Requirement already satisfied: python-dateutil>=2.8.2 in c:\\users\\rames\\anaconda3\\lib\\site-packages (from pandas>=1.0.0->ucimlrepo) (2.8.2)\n",
      "Requirement already satisfied: pytz>=2020.1 in c:\\users\\rames\\anaconda3\\lib\\site-packages (from pandas>=1.0.0->ucimlrepo) (2023.3.post1)\n",
      "Requirement already satisfied: tzdata>=2022.1 in c:\\users\\rames\\anaconda3\\lib\\site-packages (from pandas>=1.0.0->ucimlrepo) (2023.3)\n",
      "Requirement already satisfied: six>=1.5 in c:\\users\\rames\\anaconda3\\lib\\site-packages (from python-dateutil>=2.8.2->pandas>=1.0.0->ucimlrepo) (1.16.0)\n",
      "Requirement already satisfied: scipy in c:\\users\\rames\\anaconda3\\lib\\site-packages (1.11.4)\n",
      "Requirement already satisfied: numpy<1.28.0,>=1.21.6 in c:\\users\\rames\\anaconda3\\lib\\site-packages (from scipy) (1.26.4)\n",
      "Requirement already satisfied: xgboost in c:\\users\\rames\\anaconda3\\lib\\site-packages (2.1.1)\n",
      "Requirement already satisfied: numpy in c:\\users\\rames\\anaconda3\\lib\\site-packages (from xgboost) (1.26.4)\n",
      "Requirement already satisfied: scipy in c:\\users\\rames\\anaconda3\\lib\\site-packages (from xgboost) (1.11.4)\n",
      "Requirement already satisfied: imbalanced-learn in c:\\users\\rames\\anaconda3\\lib\\site-packages (0.11.0)\n",
      "Requirement already satisfied: numpy>=1.17.3 in c:\\users\\rames\\anaconda3\\lib\\site-packages (from imbalanced-learn) (1.26.4)\n",
      "Requirement already satisfied: scipy>=1.5.0 in c:\\users\\rames\\anaconda3\\lib\\site-packages (from imbalanced-learn) (1.11.4)\n",
      "Requirement already satisfied: scikit-learn>=1.0.2 in c:\\users\\rames\\anaconda3\\lib\\site-packages (from imbalanced-learn) (1.2.2)\n",
      "Requirement already satisfied: joblib>=1.1.1 in c:\\users\\rames\\anaconda3\\lib\\site-packages (from imbalanced-learn) (1.2.0)\n",
      "Requirement already satisfied: threadpoolctl>=2.0.0 in c:\\users\\rames\\anaconda3\\lib\\site-packages (from imbalanced-learn) (2.2.0)\n"
     ]
    }
   ],
   "source": [
    "!pip install ucimlrepo\n",
    "\n",
    "!pip install scipy\n",
    "!pip install xgboost\n",
    "!pip install imbalanced-learn\n",
    "\n"
   ]
  },
  {
   "cell_type": "markdown",
   "id": "c2e46a28-9c27-4b80-988c-4595f5df4af9",
   "metadata": {},
   "source": [
    "#Reading the data"
   ]
  },
  {
   "cell_type": "code",
   "execution_count": 60,
   "id": "1ec48bc9-c24b-4708-b57c-97b390b989f7",
   "metadata": {},
   "outputs": [
    {
     "data": {
      "text/html": [
       "<div>\n",
       "<style scoped>\n",
       "    .dataframe tbody tr th:only-of-type {\n",
       "        vertical-align: middle;\n",
       "    }\n",
       "\n",
       "    .dataframe tbody tr th {\n",
       "        vertical-align: top;\n",
       "    }\n",
       "\n",
       "    .dataframe thead th {\n",
       "        text-align: right;\n",
       "    }\n",
       "</style>\n",
       "<table border=\"1\" class=\"dataframe\">\n",
       "  <thead>\n",
       "    <tr style=\"text-align: right;\">\n",
       "      <th></th>\n",
       "      <th>age</th>\n",
       "      <th>workclass</th>\n",
       "      <th>fnlwgt</th>\n",
       "      <th>education</th>\n",
       "      <th>education-num</th>\n",
       "      <th>marital-status</th>\n",
       "      <th>occupation</th>\n",
       "      <th>relationship</th>\n",
       "      <th>race</th>\n",
       "      <th>sex</th>\n",
       "      <th>capital-gain</th>\n",
       "      <th>capital-loss</th>\n",
       "      <th>hours-per-week</th>\n",
       "      <th>native-country</th>\n",
       "      <th>income</th>\n",
       "    </tr>\n",
       "  </thead>\n",
       "  <tbody>\n",
       "    <tr>\n",
       "      <th>0</th>\n",
       "      <td>39</td>\n",
       "      <td>State-gov</td>\n",
       "      <td>77516</td>\n",
       "      <td>Bachelors</td>\n",
       "      <td>13</td>\n",
       "      <td>Never-married</td>\n",
       "      <td>Adm-clerical</td>\n",
       "      <td>Not-in-family</td>\n",
       "      <td>White</td>\n",
       "      <td>Male</td>\n",
       "      <td>2174</td>\n",
       "      <td>0</td>\n",
       "      <td>40</td>\n",
       "      <td>United-States</td>\n",
       "      <td>&lt;=50K</td>\n",
       "    </tr>\n",
       "    <tr>\n",
       "      <th>1</th>\n",
       "      <td>50</td>\n",
       "      <td>Self-emp-not-inc</td>\n",
       "      <td>83311</td>\n",
       "      <td>Bachelors</td>\n",
       "      <td>13</td>\n",
       "      <td>Married-civ-spouse</td>\n",
       "      <td>Exec-managerial</td>\n",
       "      <td>Husband</td>\n",
       "      <td>White</td>\n",
       "      <td>Male</td>\n",
       "      <td>0</td>\n",
       "      <td>0</td>\n",
       "      <td>13</td>\n",
       "      <td>United-States</td>\n",
       "      <td>&lt;=50K</td>\n",
       "    </tr>\n",
       "    <tr>\n",
       "      <th>2</th>\n",
       "      <td>38</td>\n",
       "      <td>Private</td>\n",
       "      <td>215646</td>\n",
       "      <td>HS-grad</td>\n",
       "      <td>9</td>\n",
       "      <td>Divorced</td>\n",
       "      <td>Handlers-cleaners</td>\n",
       "      <td>Not-in-family</td>\n",
       "      <td>White</td>\n",
       "      <td>Male</td>\n",
       "      <td>0</td>\n",
       "      <td>0</td>\n",
       "      <td>40</td>\n",
       "      <td>United-States</td>\n",
       "      <td>&lt;=50K</td>\n",
       "    </tr>\n",
       "  </tbody>\n",
       "</table>\n",
       "</div>"
      ],
      "text/plain": [
       "   age         workclass  fnlwgt  education  education-num  \\\n",
       "0   39         State-gov   77516  Bachelors             13   \n",
       "1   50  Self-emp-not-inc   83311  Bachelors             13   \n",
       "2   38           Private  215646    HS-grad              9   \n",
       "\n",
       "       marital-status         occupation   relationship   race   sex  \\\n",
       "0       Never-married       Adm-clerical  Not-in-family  White  Male   \n",
       "1  Married-civ-spouse    Exec-managerial        Husband  White  Male   \n",
       "2            Divorced  Handlers-cleaners  Not-in-family  White  Male   \n",
       "\n",
       "   capital-gain  capital-loss  hours-per-week native-country income  \n",
       "0          2174             0              40  United-States  <=50K  \n",
       "1             0             0              13  United-States  <=50K  \n",
       "2             0             0              40  United-States  <=50K  "
      ]
     },
     "execution_count": 60,
     "metadata": {},
     "output_type": "execute_result"
    }
   ],
   "source": [
    "from ucimlrepo import fetch_ucirepo\n",
    "\n",
    "# Fetch the Adult dataset\n",
    "dataset = fetch_ucirepo('adult')\n",
    "#print(dataset)\n",
    "# Access data \n",
    "actual_data=dataset.data.features # give dataset except target\n",
    "target = dataset.data.targets\n",
    "# Convert to pandas DataFrame\n",
    "df = pd.DataFrame(data=actual_data, columns=dataset.headers)\n",
    "df[\"income\"]=target\n",
    "\n",
    "# Display the first few rows of the DataFrame\n",
    "df.head(3)"
   ]
  },
  {
   "cell_type": "markdown",
   "id": "4cb47fa6-4398-4048-be06-071414a62f76",
   "metadata": {},
   "source": [
    "Classifying the age child:0-12\n",
    "Teen: Ages 13-19\n",
    "Young Adult: Ages 20–34\n",
    "Adult: Ages 35–60\n",
    "Senior: Ages 61–100\n"
   ]
  },
  {
   "cell_type": "code",
   "execution_count": 61,
   "id": "f1758b78-00fb-452c-b208-62c37d7295a1",
   "metadata": {},
   "outputs": [],
   "source": [
    "df1=df.copy()"
   ]
  },
  {
   "cell_type": "code",
   "execution_count": 62,
   "id": "92b65c3c-2209-4891-b4a1-e5bfbec1ed8c",
   "metadata": {},
   "outputs": [
    {
     "name": "stdout",
     "output_type": "stream",
     "text": [
      "       age         workclass  fnlwgt  education  education-num  \\\n",
      "0       39         State-gov   77516  Bachelors             13   \n",
      "1       50  Self-emp-not-inc   83311  Bachelors             13   \n",
      "2       38           Private  215646    HS-grad              9   \n",
      "3       53           Private  234721       11th              7   \n",
      "4       28           Private  338409  Bachelors             13   \n",
      "...    ...               ...     ...        ...            ...   \n",
      "48837   39           Private  215419  Bachelors             13   \n",
      "48838   64               NaN  321403    HS-grad              9   \n",
      "48839   38           Private  374983  Bachelors             13   \n",
      "48840   44           Private   83891  Bachelors             13   \n",
      "48841   35      Self-emp-inc  182148  Bachelors             13   \n",
      "\n",
      "           marital-status         occupation    relationship  \\\n",
      "0           Never-married       Adm-clerical   Not-in-family   \n",
      "1      Married-civ-spouse    Exec-managerial         Husband   \n",
      "2                Divorced  Handlers-cleaners   Not-in-family   \n",
      "3      Married-civ-spouse  Handlers-cleaners         Husband   \n",
      "4      Married-civ-spouse     Prof-specialty            Wife   \n",
      "...                   ...                ...             ...   \n",
      "48837            Divorced     Prof-specialty   Not-in-family   \n",
      "48838             Widowed                NaN  Other-relative   \n",
      "48839  Married-civ-spouse     Prof-specialty         Husband   \n",
      "48840            Divorced       Adm-clerical       Own-child   \n",
      "48841  Married-civ-spouse    Exec-managerial         Husband   \n",
      "\n",
      "                     race     sex  capital-gain  capital-loss  hours-per-week  \\\n",
      "0                   White    Male          2174             0              40   \n",
      "1                   White    Male             0             0              13   \n",
      "2                   White    Male             0             0              40   \n",
      "3                   Black    Male             0             0              40   \n",
      "4                   Black  Female             0             0              40   \n",
      "...                   ...     ...           ...           ...             ...   \n",
      "48837               White  Female             0             0              36   \n",
      "48838               Black    Male             0             0              40   \n",
      "48839               White    Male             0             0              50   \n",
      "48840  Asian-Pac-Islander    Male          5455             0              40   \n",
      "48841               White    Male             0             0              60   \n",
      "\n",
      "      native-country  income    age_group  \n",
      "0      United-States   <=50K        Adult  \n",
      "1      United-States   <=50K        Adult  \n",
      "2      United-States   <=50K        Adult  \n",
      "3      United-States   <=50K        Adult  \n",
      "4               Cuba   <=50K  Young Adult  \n",
      "...              ...     ...          ...  \n",
      "48837  United-States  <=50K.        Adult  \n",
      "48838  United-States  <=50K.       Senior  \n",
      "48839  United-States  <=50K.        Adult  \n",
      "48840  United-States  <=50K.        Adult  \n",
      "48841  United-States   >50K.        Adult  \n",
      "\n",
      "[48842 rows x 16 columns]\n"
     ]
    }
   ],
   "source": [
    "# Define bins and labels for age categories\n",
    "bins = [0, 13, 20, 35, 61, 100]  # Age intervals\n",
    "labels = ['Child', 'Teen', 'Young Adult', 'Adult', 'Senior']  # Corresponding labels\n",
    "\n",
    "# Use pd.cut to categorize the age into groups\n",
    "df1['age_group'] = pd.cut(df1['age'], bins=bins, labels=labels, right=False)\n",
    "\n",
    "# Display the DataFrame\n",
    "print(df1)"
   ]
  },
  {
   "cell_type": "code",
   "execution_count": 63,
   "id": "f5bf4807-53e4-47d6-8304-ba17e37544c1",
   "metadata": {},
   "outputs": [],
   "source": [
    "df1['income']=df1['income'].replace('<=50K.','<=50K')\n",
    "df1['income']=df1['income'].replace('>50K.','>50K')"
   ]
  },
  {
   "cell_type": "code",
   "execution_count": 64,
   "id": "b861b2c1-ae73-412c-b6e0-c2b9d39ebbe2",
   "metadata": {},
   "outputs": [
    {
     "name": "stdout",
     "output_type": "stream",
     "text": [
      "            age_group\n",
      "                count\n",
      "age_group            \n",
      "Child               0\n",
      "Teen             2510\n",
      "Young Adult     18499\n",
      "Adult           24227\n",
      "Senior           3606\n"
     ]
    },
    {
     "name": "stderr",
     "output_type": "stream",
     "text": [
      "C:\\Users\\rames\\AppData\\Local\\Temp\\ipykernel_26244\\3677031028.py:2: FutureWarning: The default of observed=False is deprecated and will be changed to True in a future version of pandas. Pass observed=False to retain current behavior or observed=True to adopt the future default and silence this warning.\n",
      "  grouped = df1.groupby(['age_group']).agg({\n"
     ]
    }
   ],
   "source": [
    "# Group by 'Age Group' and calculate the mean salary for each group\n",
    "grouped = df1.groupby(['age_group']).agg({\n",
    "    'age_group': ['count']\n",
    "}) \n",
    "# Display the result\n",
    "print(grouped)"
   ]
  },
  {
   "cell_type": "markdown",
   "id": "3748e3b1-e439-45f5-9f18-50eab03dbb90",
   "metadata": {},
   "source": [
    "Elementary: Preschool,1st Grade to 4th Grade\n",
    "Middle School: 5th Grade to 8th Grade\n",
    "High School : 9th Grade to 12th Grade\n"
   ]
  },
  {
   "cell_type": "code",
   "execution_count": 65,
   "id": "ffa278b3-d82f-4d63-8f6b-4358581c1711",
   "metadata": {},
   "outputs": [
    {
     "data": {
      "text/plain": [
       "array(['Bachelors', 'HS-grad', '11th', 'Masters', '9th', 'Some-college',\n",
       "       'Assoc-acdm', 'Assoc-voc', '7th-8th', 'Doctorate', 'Prof-school',\n",
       "       '5th-6th', '10th', '1st-4th', 'Preschool', '12th'], dtype=object)"
      ]
     },
     "execution_count": 65,
     "metadata": {},
     "output_type": "execute_result"
    }
   ],
   "source": [
    "df1['education'].unique()"
   ]
  },
  {
   "cell_type": "code",
   "execution_count": 66,
   "id": "1b3547fc-bace-4546-81d7-ba5cd76e45a5",
   "metadata": {},
   "outputs": [
    {
     "name": "stdout",
     "output_type": "stream",
     "text": [
      "       age         workclass  fnlwgt  education  education-num  \\\n",
      "0       39         State-gov   77516  Bachelors             13   \n",
      "1       50  Self-emp-not-inc   83311  Bachelors             13   \n",
      "2       38           Private  215646    HS-grad              9   \n",
      "3       53           Private  234721       11th              7   \n",
      "4       28           Private  338409  Bachelors             13   \n",
      "...    ...               ...     ...        ...            ...   \n",
      "48837   39           Private  215419  Bachelors             13   \n",
      "48838   64               NaN  321403    HS-grad              9   \n",
      "48839   38           Private  374983  Bachelors             13   \n",
      "48840   44           Private   83891  Bachelors             13   \n",
      "48841   35      Self-emp-inc  182148  Bachelors             13   \n",
      "\n",
      "           marital-status         occupation    relationship  \\\n",
      "0           Never-married       Adm-clerical   Not-in-family   \n",
      "1      Married-civ-spouse    Exec-managerial         Husband   \n",
      "2                Divorced  Handlers-cleaners   Not-in-family   \n",
      "3      Married-civ-spouse  Handlers-cleaners         Husband   \n",
      "4      Married-civ-spouse     Prof-specialty            Wife   \n",
      "...                   ...                ...             ...   \n",
      "48837            Divorced     Prof-specialty   Not-in-family   \n",
      "48838             Widowed                NaN  Other-relative   \n",
      "48839  Married-civ-spouse     Prof-specialty         Husband   \n",
      "48840            Divorced       Adm-clerical       Own-child   \n",
      "48841  Married-civ-spouse    Exec-managerial         Husband   \n",
      "\n",
      "                     race     sex  capital-gain  capital-loss  hours-per-week  \\\n",
      "0                   White    Male          2174             0              40   \n",
      "1                   White    Male             0             0              13   \n",
      "2                   White    Male             0             0              40   \n",
      "3                   Black    Male             0             0              40   \n",
      "4                   Black  Female             0             0              40   \n",
      "...                   ...     ...           ...           ...             ...   \n",
      "48837               White  Female             0             0              36   \n",
      "48838               Black    Male             0             0              40   \n",
      "48839               White    Male             0             0              50   \n",
      "48840  Asian-Pac-Islander    Male          5455             0              40   \n",
      "48841               White    Male             0             0              60   \n",
      "\n",
      "      native-country income    age_group education_category  \n",
      "0      United-States  <=50K        Adult          Bachelors  \n",
      "1      United-States  <=50K        Adult          Bachelors  \n",
      "2      United-States  <=50K        Adult            HS-grad  \n",
      "3      United-States  <=50K        Adult        Not HS-grad  \n",
      "4               Cuba  <=50K  Young Adult          Bachelors  \n",
      "...              ...    ...          ...                ...  \n",
      "48837  United-States  <=50K        Adult          Bachelors  \n",
      "48838  United-States  <=50K       Senior            HS-grad  \n",
      "48839  United-States  <=50K        Adult          Bachelors  \n",
      "48840  United-States  <=50K        Adult          Bachelors  \n",
      "48841  United-States   >50K        Adult          Bachelors  \n",
      "\n",
      "[48842 rows x 17 columns]\n"
     ]
    }
   ],
   "source": [
    "# Function to categorize grade levels\n",
    "def categorize_grade(grade):\n",
    "    if grade in ['Preschool', '1st-4th']:\n",
    "        return 'Elementary'\n",
    "    elif grade in ['5th-6th', '7th-8th']:\n",
    "        return 'Middle School'\n",
    "    elif grade in ['9th', '10th', '11th', '12th']:\n",
    "        return 'Not HS-grad'\n",
    "    else:\n",
    "        return grade\n",
    "        \n",
    "# Apply the function to categorize grade levels\n",
    "df1['education_category'] = df1['education'].apply(categorize_grade)\n",
    "# Show the result\n",
    "print(df1)"
   ]
  },
  {
   "cell_type": "code",
   "execution_count": 67,
   "id": "5cb133f9-bf5d-4a37-9bb3-2664cd6df8f7",
   "metadata": {},
   "outputs": [
    {
     "name": "stdout",
     "output_type": "stream",
     "text": [
      "                   education_category\n",
      "                                count\n",
      "education_category                   \n",
      "Assoc-acdm                       1601\n",
      "Assoc-voc                        2061\n",
      "Bachelors                        8025\n",
      "Doctorate                         594\n",
      "Elementary                        330\n",
      "HS-grad                         15784\n",
      "Masters                          2657\n",
      "Middle School                    1464\n",
      "Not HS-grad                      4614\n",
      "Prof-school                       834\n",
      "Some-college                    10878\n"
     ]
    }
   ],
   "source": [
    "# Group by 'education' \n",
    "grouped = df1.groupby(['education_category']).agg({\n",
    "    'education_category': ['count']\n",
    "}) \n",
    "# Display the result\n",
    "print(grouped)"
   ]
  },
  {
   "cell_type": "markdown",
   "id": "55e65b6d-28a1-46c3-9ac2-a99120dbb277",
   "metadata": {},
   "source": [
    "\n",
    "Part-time: 1–20 hours\n",
    "Full-time: 21–40 hours\n",
    "Overtime: 41–60 hours\n",
    "Extreme: More than 60 hours"
   ]
  },
  {
   "cell_type": "code",
   "execution_count": null,
   "id": "f440ae99-cb40-47f1-8fd2-0d88bf39d40b",
   "metadata": {},
   "outputs": [],
   "source": []
  },
  {
   "cell_type": "markdown",
   "id": "003e16df-0c19-4ff4-8fe4-05874f1d9a8f",
   "metadata": {},
   "source": [
    "#HOUR-PER-WEEK CLEANING"
   ]
  },
  {
   "cell_type": "code",
   "execution_count": 68,
   "id": "5484d985-6089-4168-a7d5-a6c55248a853",
   "metadata": {},
   "outputs": [],
   "source": [
    "#replacing the outliers in hours per week column:  upperbound outliers with 80\n",
    "df1['hours-per-week'] = df1['hours-per-week'].apply(lambda x: 80 if x >= 80 else x)"
   ]
  },
  {
   "cell_type": "markdown",
   "id": "527f3bc5-8f88-4c1a-b456-0cafa10315e0",
   "metadata": {},
   "source": [
    "bins = [1, 20, 40, 60, 100]  # Define ranges for hours worked\n",
    "labels = ['Part-time', 'Full-time', 'Over-time', 'Extreme']  # Corresponding categories\n",
    "\n",
    "# Use pd.cut to categorize the age into groups\n",
    "df1['hours-per-week_category'] = pd.cut(df1['hours-per-week'], bins=bins, labels=labels, right=True)\n",
    "\n",
    "# Display the DataFrame\n",
    "print(df1)"
   ]
  },
  {
   "cell_type": "markdown",
   "id": "49122c2f-ea02-452f-a52e-f7f278098bc6",
   "metadata": {},
   "source": [
    "# Group by 'hours-per-week' \n",
    "grouped = df1.groupby(['hours-per-week_category']).agg({\n",
    "    'hours-per-week_category': ['count']\n",
    "}) \n",
    "# Display the result\n",
    "print(grouped)"
   ]
  },
  {
   "cell_type": "code",
   "execution_count": 69,
   "id": "fe884916-ed72-484a-9cbf-b17ab01888a3",
   "metadata": {},
   "outputs": [],
   "source": [
    "df1['workclass'].replace(['?', ' '], np.nan, inplace=True)\n",
    "df1['occupation'].replace(['?', ' '], np.nan, inplace=True)\n",
    "df1['native-country'].replace(['?', ' '], np.nan, inplace=True)\n"
   ]
  },
  {
   "cell_type": "code",
   "execution_count": 70,
   "id": "51cd02d1-30db-4cc5-8992-d0c0eca3e188",
   "metadata": {},
   "outputs": [],
   "source": [
    "df1.loc[df1['workclass'] == 'Never-worked', 'hours-per-week'] = 0"
   ]
  },
  {
   "cell_type": "code",
   "execution_count": 79,
   "id": "ac18c2df-61c0-4abf-a315-f412a7b5bb34",
   "metadata": {},
   "outputs": [
    {
     "data": {
      "text/html": [
       "<div>\n",
       "<style scoped>\n",
       "    .dataframe tbody tr th:only-of-type {\n",
       "        vertical-align: middle;\n",
       "    }\n",
       "\n",
       "    .dataframe tbody tr th {\n",
       "        vertical-align: top;\n",
       "    }\n",
       "\n",
       "    .dataframe thead th {\n",
       "        text-align: right;\n",
       "    }\n",
       "</style>\n",
       "<table border=\"1\" class=\"dataframe\">\n",
       "  <thead>\n",
       "    <tr style=\"text-align: right;\">\n",
       "      <th></th>\n",
       "      <th>age</th>\n",
       "      <th>workclass</th>\n",
       "      <th>education-num</th>\n",
       "      <th>marital-status</th>\n",
       "      <th>occupation</th>\n",
       "      <th>relationship</th>\n",
       "      <th>race</th>\n",
       "      <th>sex</th>\n",
       "      <th>capital-gain</th>\n",
       "      <th>capital-loss</th>\n",
       "      <th>hours-per-week</th>\n",
       "      <th>native-country</th>\n",
       "      <th>income</th>\n",
       "      <th>age_group</th>\n",
       "      <th>education_category</th>\n",
       "    </tr>\n",
       "  </thead>\n",
       "  <tbody>\n",
       "    <tr>\n",
       "      <th>5361</th>\n",
       "      <td>18</td>\n",
       "      <td>Never-worked</td>\n",
       "      <td>6</td>\n",
       "      <td>Never-married</td>\n",
       "      <td>NaN</td>\n",
       "      <td>Own-child</td>\n",
       "      <td>White</td>\n",
       "      <td>Male</td>\n",
       "      <td>0</td>\n",
       "      <td>0</td>\n",
       "      <td>0</td>\n",
       "      <td>United-States</td>\n",
       "      <td>&lt;=50K</td>\n",
       "      <td>Teen</td>\n",
       "      <td>Not HS-grad</td>\n",
       "    </tr>\n",
       "    <tr>\n",
       "      <th>10845</th>\n",
       "      <td>23</td>\n",
       "      <td>Never-worked</td>\n",
       "      <td>4</td>\n",
       "      <td>Divorced</td>\n",
       "      <td>NaN</td>\n",
       "      <td>Not-in-family</td>\n",
       "      <td>White</td>\n",
       "      <td>Male</td>\n",
       "      <td>0</td>\n",
       "      <td>0</td>\n",
       "      <td>0</td>\n",
       "      <td>United-States</td>\n",
       "      <td>&lt;=50K</td>\n",
       "      <td>Young Adult</td>\n",
       "      <td>Middle School</td>\n",
       "    </tr>\n",
       "    <tr>\n",
       "      <th>14772</th>\n",
       "      <td>17</td>\n",
       "      <td>Never-worked</td>\n",
       "      <td>6</td>\n",
       "      <td>Never-married</td>\n",
       "      <td>NaN</td>\n",
       "      <td>Own-child</td>\n",
       "      <td>White</td>\n",
       "      <td>Male</td>\n",
       "      <td>0</td>\n",
       "      <td>0</td>\n",
       "      <td>0</td>\n",
       "      <td>United-States</td>\n",
       "      <td>&lt;=50K</td>\n",
       "      <td>Teen</td>\n",
       "      <td>Not HS-grad</td>\n",
       "    </tr>\n",
       "    <tr>\n",
       "      <th>20337</th>\n",
       "      <td>18</td>\n",
       "      <td>Never-worked</td>\n",
       "      <td>7</td>\n",
       "      <td>Never-married</td>\n",
       "      <td>NaN</td>\n",
       "      <td>Own-child</td>\n",
       "      <td>White</td>\n",
       "      <td>Female</td>\n",
       "      <td>0</td>\n",
       "      <td>0</td>\n",
       "      <td>0</td>\n",
       "      <td>United-States</td>\n",
       "      <td>&lt;=50K</td>\n",
       "      <td>Teen</td>\n",
       "      <td>Not HS-grad</td>\n",
       "    </tr>\n",
       "    <tr>\n",
       "      <th>23232</th>\n",
       "      <td>20</td>\n",
       "      <td>Never-worked</td>\n",
       "      <td>10</td>\n",
       "      <td>Never-married</td>\n",
       "      <td>NaN</td>\n",
       "      <td>Own-child</td>\n",
       "      <td>Black</td>\n",
       "      <td>Male</td>\n",
       "      <td>0</td>\n",
       "      <td>0</td>\n",
       "      <td>0</td>\n",
       "      <td>United-States</td>\n",
       "      <td>&lt;=50K</td>\n",
       "      <td>Young Adult</td>\n",
       "      <td>Some-college</td>\n",
       "    </tr>\n",
       "    <tr>\n",
       "      <th>32304</th>\n",
       "      <td>30</td>\n",
       "      <td>Never-worked</td>\n",
       "      <td>9</td>\n",
       "      <td>Married-civ-spouse</td>\n",
       "      <td>NaN</td>\n",
       "      <td>Wife</td>\n",
       "      <td>Black</td>\n",
       "      <td>Female</td>\n",
       "      <td>0</td>\n",
       "      <td>0</td>\n",
       "      <td>0</td>\n",
       "      <td>United-States</td>\n",
       "      <td>&lt;=50K</td>\n",
       "      <td>Young Adult</td>\n",
       "      <td>HS-grad</td>\n",
       "    </tr>\n",
       "    <tr>\n",
       "      <th>32314</th>\n",
       "      <td>18</td>\n",
       "      <td>Never-worked</td>\n",
       "      <td>10</td>\n",
       "      <td>Never-married</td>\n",
       "      <td>NaN</td>\n",
       "      <td>Own-child</td>\n",
       "      <td>White</td>\n",
       "      <td>Male</td>\n",
       "      <td>0</td>\n",
       "      <td>0</td>\n",
       "      <td>0</td>\n",
       "      <td>United-States</td>\n",
       "      <td>&lt;=50K</td>\n",
       "      <td>Teen</td>\n",
       "      <td>Some-college</td>\n",
       "    </tr>\n",
       "    <tr>\n",
       "      <th>41346</th>\n",
       "      <td>17</td>\n",
       "      <td>Never-worked</td>\n",
       "      <td>7</td>\n",
       "      <td>Never-married</td>\n",
       "      <td>NaN</td>\n",
       "      <td>Own-child</td>\n",
       "      <td>Black</td>\n",
       "      <td>Female</td>\n",
       "      <td>0</td>\n",
       "      <td>0</td>\n",
       "      <td>0</td>\n",
       "      <td>United-States</td>\n",
       "      <td>&lt;=50K</td>\n",
       "      <td>Teen</td>\n",
       "      <td>Not HS-grad</td>\n",
       "    </tr>\n",
       "    <tr>\n",
       "      <th>44168</th>\n",
       "      <td>20</td>\n",
       "      <td>Never-worked</td>\n",
       "      <td>9</td>\n",
       "      <td>Married-spouse-absent</td>\n",
       "      <td>NaN</td>\n",
       "      <td>Other-relative</td>\n",
       "      <td>White</td>\n",
       "      <td>Male</td>\n",
       "      <td>0</td>\n",
       "      <td>0</td>\n",
       "      <td>0</td>\n",
       "      <td>United-States</td>\n",
       "      <td>&lt;=50K</td>\n",
       "      <td>Young Adult</td>\n",
       "      <td>HS-grad</td>\n",
       "    </tr>\n",
       "    <tr>\n",
       "      <th>46459</th>\n",
       "      <td>18</td>\n",
       "      <td>Never-worked</td>\n",
       "      <td>7</td>\n",
       "      <td>Never-married</td>\n",
       "      <td>NaN</td>\n",
       "      <td>Own-child</td>\n",
       "      <td>White</td>\n",
       "      <td>Male</td>\n",
       "      <td>0</td>\n",
       "      <td>0</td>\n",
       "      <td>0</td>\n",
       "      <td>United-States</td>\n",
       "      <td>&lt;=50K</td>\n",
       "      <td>Teen</td>\n",
       "      <td>Not HS-grad</td>\n",
       "    </tr>\n",
       "  </tbody>\n",
       "</table>\n",
       "</div>"
      ],
      "text/plain": [
       "       age     workclass  education-num         marital-status occupation  \\\n",
       "5361    18  Never-worked              6          Never-married        NaN   \n",
       "10845   23  Never-worked              4               Divorced        NaN   \n",
       "14772   17  Never-worked              6          Never-married        NaN   \n",
       "20337   18  Never-worked              7          Never-married        NaN   \n",
       "23232   20  Never-worked             10          Never-married        NaN   \n",
       "32304   30  Never-worked              9     Married-civ-spouse        NaN   \n",
       "32314   18  Never-worked             10          Never-married        NaN   \n",
       "41346   17  Never-worked              7          Never-married        NaN   \n",
       "44168   20  Never-worked              9  Married-spouse-absent        NaN   \n",
       "46459   18  Never-worked              7          Never-married        NaN   \n",
       "\n",
       "         relationship   race     sex  capital-gain  capital-loss  \\\n",
       "5361        Own-child  White    Male             0             0   \n",
       "10845   Not-in-family  White    Male             0             0   \n",
       "14772       Own-child  White    Male             0             0   \n",
       "20337       Own-child  White  Female             0             0   \n",
       "23232       Own-child  Black    Male             0             0   \n",
       "32304            Wife  Black  Female             0             0   \n",
       "32314       Own-child  White    Male             0             0   \n",
       "41346       Own-child  Black  Female             0             0   \n",
       "44168  Other-relative  White    Male             0             0   \n",
       "46459       Own-child  White    Male             0             0   \n",
       "\n",
       "       hours-per-week native-country income    age_group education_category  \n",
       "5361                0  United-States  <=50K         Teen        Not HS-grad  \n",
       "10845               0  United-States  <=50K  Young Adult      Middle School  \n",
       "14772               0  United-States  <=50K         Teen        Not HS-grad  \n",
       "20337               0  United-States  <=50K         Teen        Not HS-grad  \n",
       "23232               0  United-States  <=50K  Young Adult       Some-college  \n",
       "32304               0  United-States  <=50K  Young Adult            HS-grad  \n",
       "32314               0  United-States  <=50K         Teen       Some-college  \n",
       "41346               0  United-States  <=50K         Teen        Not HS-grad  \n",
       "44168               0  United-States  <=50K  Young Adult            HS-grad  \n",
       "46459               0  United-States  <=50K         Teen        Not HS-grad  "
      ]
     },
     "execution_count": 79,
     "metadata": {},
     "output_type": "execute_result"
    }
   ],
   "source": [
    "df1.loc[df1['hours-per-week'] == 0]"
   ]
  },
  {
   "cell_type": "code",
   "execution_count": 80,
   "id": "91dfcc4a-476e-4002-a484-8a8b1a354c42",
   "metadata": {},
   "outputs": [
    {
     "name": "stdout",
     "output_type": "stream",
     "text": [
      "Total duplicate rows: 6326\n"
     ]
    }
   ],
   "source": [
    "duplicate_count = df1.duplicated().sum()\n",
    "print(f\"Total duplicate rows: {duplicate_count}\")"
   ]
  },
  {
   "cell_type": "markdown",
   "id": "4fdd9a80-7541-481b-a269-40451a3f927a",
   "metadata": {},
   "source": [
    "Dropping the duplicate Rows(52 of them)"
   ]
  },
  {
   "cell_type": "code",
   "execution_count": 81,
   "id": "8ac69e3d-0f5d-448c-9ce4-0f8c7c592cdc",
   "metadata": {},
   "outputs": [],
   "source": [
    "df1 = df1.drop_duplicates()"
   ]
  },
  {
   "cell_type": "code",
   "execution_count": 82,
   "id": "9d561052-3488-4752-b3c0-e7638c7d14b7",
   "metadata": {},
   "outputs": [
    {
     "data": {
      "text/plain": [
       "(42464, 15)"
      ]
     },
     "execution_count": 82,
     "metadata": {},
     "output_type": "execute_result"
    }
   ],
   "source": [
    "df1.shape"
   ]
  },
  {
   "cell_type": "code",
   "execution_count": 83,
   "id": "8ce26b16-236d-4c2c-a5c7-1218e000884f",
   "metadata": {},
   "outputs": [
    {
     "ename": "KeyError",
     "evalue": "\"['fnlwgt', 'education'] not found in axis\"",
     "output_type": "error",
     "traceback": [
      "\u001b[1;31m---------------------------------------------------------------------------\u001b[0m",
      "\u001b[1;31mKeyError\u001b[0m                                  Traceback (most recent call last)",
      "Cell \u001b[1;32mIn[83], line 4\u001b[0m\n\u001b[0;32m      2\u001b[0m columns_to_drop \u001b[38;5;241m=\u001b[39m [\u001b[38;5;124m'\u001b[39m\u001b[38;5;124mfnlwgt\u001b[39m\u001b[38;5;124m'\u001b[39m, \u001b[38;5;124m'\u001b[39m\u001b[38;5;124meducation\u001b[39m\u001b[38;5;124m'\u001b[39m] \n\u001b[0;32m      3\u001b[0m \u001b[38;5;66;03m#Dropping the specified columns\u001b[39;00m\n\u001b[1;32m----> 4\u001b[0m df1 \u001b[38;5;241m=\u001b[39m df1\u001b[38;5;241m.\u001b[39mdrop(columns\u001b[38;5;241m=\u001b[39mcolumns_to_drop)\n",
      "File \u001b[1;32m~\\anaconda3\\Lib\\site-packages\\pandas\\core\\frame.py:5344\u001b[0m, in \u001b[0;36mDataFrame.drop\u001b[1;34m(self, labels, axis, index, columns, level, inplace, errors)\u001b[0m\n\u001b[0;32m   5196\u001b[0m \u001b[38;5;28;01mdef\u001b[39;00m \u001b[38;5;21mdrop\u001b[39m(\n\u001b[0;32m   5197\u001b[0m     \u001b[38;5;28mself\u001b[39m,\n\u001b[0;32m   5198\u001b[0m     labels: IndexLabel \u001b[38;5;241m|\u001b[39m \u001b[38;5;28;01mNone\u001b[39;00m \u001b[38;5;241m=\u001b[39m \u001b[38;5;28;01mNone\u001b[39;00m,\n\u001b[1;32m   (...)\u001b[0m\n\u001b[0;32m   5205\u001b[0m     errors: IgnoreRaise \u001b[38;5;241m=\u001b[39m \u001b[38;5;124m\"\u001b[39m\u001b[38;5;124mraise\u001b[39m\u001b[38;5;124m\"\u001b[39m,\n\u001b[0;32m   5206\u001b[0m ) \u001b[38;5;241m-\u001b[39m\u001b[38;5;241m>\u001b[39m DataFrame \u001b[38;5;241m|\u001b[39m \u001b[38;5;28;01mNone\u001b[39;00m:\n\u001b[0;32m   5207\u001b[0m \u001b[38;5;250m    \u001b[39m\u001b[38;5;124;03m\"\"\"\u001b[39;00m\n\u001b[0;32m   5208\u001b[0m \u001b[38;5;124;03m    Drop specified labels from rows or columns.\u001b[39;00m\n\u001b[0;32m   5209\u001b[0m \n\u001b[1;32m   (...)\u001b[0m\n\u001b[0;32m   5342\u001b[0m \u001b[38;5;124;03m            weight  1.0     0.8\u001b[39;00m\n\u001b[0;32m   5343\u001b[0m \u001b[38;5;124;03m    \"\"\"\u001b[39;00m\n\u001b[1;32m-> 5344\u001b[0m     \u001b[38;5;28;01mreturn\u001b[39;00m \u001b[38;5;28msuper\u001b[39m()\u001b[38;5;241m.\u001b[39mdrop(\n\u001b[0;32m   5345\u001b[0m         labels\u001b[38;5;241m=\u001b[39mlabels,\n\u001b[0;32m   5346\u001b[0m         axis\u001b[38;5;241m=\u001b[39maxis,\n\u001b[0;32m   5347\u001b[0m         index\u001b[38;5;241m=\u001b[39mindex,\n\u001b[0;32m   5348\u001b[0m         columns\u001b[38;5;241m=\u001b[39mcolumns,\n\u001b[0;32m   5349\u001b[0m         level\u001b[38;5;241m=\u001b[39mlevel,\n\u001b[0;32m   5350\u001b[0m         inplace\u001b[38;5;241m=\u001b[39minplace,\n\u001b[0;32m   5351\u001b[0m         errors\u001b[38;5;241m=\u001b[39merrors,\n\u001b[0;32m   5352\u001b[0m     )\n",
      "File \u001b[1;32m~\\anaconda3\\Lib\\site-packages\\pandas\\core\\generic.py:4711\u001b[0m, in \u001b[0;36mNDFrame.drop\u001b[1;34m(self, labels, axis, index, columns, level, inplace, errors)\u001b[0m\n\u001b[0;32m   4709\u001b[0m \u001b[38;5;28;01mfor\u001b[39;00m axis, labels \u001b[38;5;129;01min\u001b[39;00m axes\u001b[38;5;241m.\u001b[39mitems():\n\u001b[0;32m   4710\u001b[0m     \u001b[38;5;28;01mif\u001b[39;00m labels \u001b[38;5;129;01mis\u001b[39;00m \u001b[38;5;129;01mnot\u001b[39;00m \u001b[38;5;28;01mNone\u001b[39;00m:\n\u001b[1;32m-> 4711\u001b[0m         obj \u001b[38;5;241m=\u001b[39m obj\u001b[38;5;241m.\u001b[39m_drop_axis(labels, axis, level\u001b[38;5;241m=\u001b[39mlevel, errors\u001b[38;5;241m=\u001b[39merrors)\n\u001b[0;32m   4713\u001b[0m \u001b[38;5;28;01mif\u001b[39;00m inplace:\n\u001b[0;32m   4714\u001b[0m     \u001b[38;5;28mself\u001b[39m\u001b[38;5;241m.\u001b[39m_update_inplace(obj)\n",
      "File \u001b[1;32m~\\anaconda3\\Lib\\site-packages\\pandas\\core\\generic.py:4753\u001b[0m, in \u001b[0;36mNDFrame._drop_axis\u001b[1;34m(self, labels, axis, level, errors, only_slice)\u001b[0m\n\u001b[0;32m   4751\u001b[0m         new_axis \u001b[38;5;241m=\u001b[39m axis\u001b[38;5;241m.\u001b[39mdrop(labels, level\u001b[38;5;241m=\u001b[39mlevel, errors\u001b[38;5;241m=\u001b[39merrors)\n\u001b[0;32m   4752\u001b[0m     \u001b[38;5;28;01melse\u001b[39;00m:\n\u001b[1;32m-> 4753\u001b[0m         new_axis \u001b[38;5;241m=\u001b[39m axis\u001b[38;5;241m.\u001b[39mdrop(labels, errors\u001b[38;5;241m=\u001b[39merrors)\n\u001b[0;32m   4754\u001b[0m     indexer \u001b[38;5;241m=\u001b[39m axis\u001b[38;5;241m.\u001b[39mget_indexer(new_axis)\n\u001b[0;32m   4756\u001b[0m \u001b[38;5;66;03m# Case for non-unique axis\u001b[39;00m\n\u001b[0;32m   4757\u001b[0m \u001b[38;5;28;01melse\u001b[39;00m:\n",
      "File \u001b[1;32m~\\anaconda3\\Lib\\site-packages\\pandas\\core\\indexes\\base.py:7000\u001b[0m, in \u001b[0;36mIndex.drop\u001b[1;34m(self, labels, errors)\u001b[0m\n\u001b[0;32m   6998\u001b[0m \u001b[38;5;28;01mif\u001b[39;00m mask\u001b[38;5;241m.\u001b[39many():\n\u001b[0;32m   6999\u001b[0m     \u001b[38;5;28;01mif\u001b[39;00m errors \u001b[38;5;241m!=\u001b[39m \u001b[38;5;124m\"\u001b[39m\u001b[38;5;124mignore\u001b[39m\u001b[38;5;124m\"\u001b[39m:\n\u001b[1;32m-> 7000\u001b[0m         \u001b[38;5;28;01mraise\u001b[39;00m \u001b[38;5;167;01mKeyError\u001b[39;00m(\u001b[38;5;124mf\u001b[39m\u001b[38;5;124m\"\u001b[39m\u001b[38;5;132;01m{\u001b[39;00mlabels[mask]\u001b[38;5;241m.\u001b[39mtolist()\u001b[38;5;132;01m}\u001b[39;00m\u001b[38;5;124m not found in axis\u001b[39m\u001b[38;5;124m\"\u001b[39m)\n\u001b[0;32m   7001\u001b[0m     indexer \u001b[38;5;241m=\u001b[39m indexer[\u001b[38;5;241m~\u001b[39mmask]\n\u001b[0;32m   7002\u001b[0m \u001b[38;5;28;01mreturn\u001b[39;00m \u001b[38;5;28mself\u001b[39m\u001b[38;5;241m.\u001b[39mdelete(indexer)\n",
      "\u001b[1;31mKeyError\u001b[0m: \"['fnlwgt', 'education'] not found in axis\""
     ]
    }
   ],
   "source": [
    "# dropping the unnecessary columns: fnlwgt(as it is a cencus adjustment value), education(as we have education number)\n",
    "columns_to_drop = ['fnlwgt', 'education'] \n",
    "#Dropping the specified columns\n",
    "df1 = df1.drop(columns=columns_to_drop)\n",
    "\n"
   ]
  },
  {
   "cell_type": "code",
   "execution_count": null,
   "id": "401d3339-90a0-4039-a52c-8bde431a6dfd",
   "metadata": {},
   "outputs": [],
   "source": [
    "\n",
    "df1.shape"
   ]
  },
  {
   "cell_type": "markdown",
   "id": "946f25ac-476c-4d58-96ae-ef88431f39f6",
   "metadata": {},
   "source": [
    "Imputing Missing value in workclass using random forest"
   ]
  },
  {
   "cell_type": "code",
   "execution_count": 84,
   "id": "f2adf057-fcc9-4ae7-bedf-ced112769d55",
   "metadata": {},
   "outputs": [
    {
     "data": {
      "text/plain": [
       "array(['State-gov', 'Self-emp-not-inc', 'Private', 'Federal-gov',\n",
       "       'Local-gov', nan, 'Self-emp-inc', 'Without-pay', 'Never-worked'],\n",
       "      dtype=object)"
      ]
     },
     "execution_count": 84,
     "metadata": {},
     "output_type": "execute_result"
    }
   ],
   "source": [
    "df1['workclass'].unique()"
   ]
  },
  {
   "cell_type": "code",
   "execution_count": 85,
   "id": "eebea855-bb99-4b78-a29e-314aaa9321cc",
   "metadata": {
    "scrolled": true
   },
   "outputs": [
    {
     "data": {
      "text/plain": [
       "workclass\n",
       "Private             28311\n",
       "Self-emp-not-inc     3732\n",
       "Local-gov            3011\n",
       "State-gov            1927\n",
       "Self-emp-inc         1644\n",
       "Federal-gov          1397\n",
       "Without-pay            21\n",
       "Never-worked           10\n",
       "Name: count, dtype: int64"
      ]
     },
     "execution_count": 85,
     "metadata": {},
     "output_type": "execute_result"
    }
   ],
   "source": [
    " df1['workclass'].value_counts()"
   ]
  },
  {
   "cell_type": "code",
   "execution_count": 86,
   "id": "87464cea-0a2a-4bac-981d-074bf9209264",
   "metadata": {},
   "outputs": [
    {
     "data": {
      "text/plain": [
       "hours-per-week\n",
       "40    18257\n",
       "50     3794\n",
       "45     2514\n",
       "60     2052\n",
       "35     1818\n",
       "      ...  \n",
       "76        4\n",
       "61        4\n",
       "74        3\n",
       "79        1\n",
       "69        1\n",
       "Name: count, Length: 80, dtype: int64"
      ]
     },
     "execution_count": 86,
     "metadata": {},
     "output_type": "execute_result"
    }
   ],
   "source": [
    " df1['hours-per-week'].value_counts()"
   ]
  },
  {
   "cell_type": "code",
   "execution_count": 87,
   "id": "71d5205a-a16d-4a58-8088-e902b0091577",
   "metadata": {},
   "outputs": [
    {
     "data": {
      "text/plain": [
       "2411"
      ]
     },
     "execution_count": 87,
     "metadata": {},
     "output_type": "execute_result"
    }
   ],
   "source": [
    "df1['workclass'].isnull().sum()"
   ]
  },
  {
   "cell_type": "code",
   "execution_count": 88,
   "id": "d551a89d-014a-4d08-9fd3-437ea49dfb58",
   "metadata": {},
   "outputs": [
    {
     "data": {
      "text/plain": [
       "2421"
      ]
     },
     "execution_count": 88,
     "metadata": {},
     "output_type": "execute_result"
    }
   ],
   "source": [
    "df1['occupation'].isnull().sum()"
   ]
  },
  {
   "cell_type": "code",
   "execution_count": 89,
   "id": "d0bf815e-67f4-4c29-b120-ef96ab01a922",
   "metadata": {},
   "outputs": [],
   "source": [
    "df2=df1.copy()"
   ]
  },
  {
   "cell_type": "code",
   "execution_count": 90,
   "id": "be240ff8-8d15-4989-8af1-1e89f7073507",
   "metadata": {},
   "outputs": [
    {
     "data": {
      "text/plain": [
       "age                      int64\n",
       "workclass               object\n",
       "education-num            int64\n",
       "marital-status          object\n",
       "occupation              object\n",
       "relationship            object\n",
       "race                    object\n",
       "sex                     object\n",
       "capital-gain             int64\n",
       "capital-loss             int64\n",
       "hours-per-week           int64\n",
       "native-country          object\n",
       "income                  object\n",
       "age_group             category\n",
       "education_category      object\n",
       "dtype: object"
      ]
     },
     "execution_count": 90,
     "metadata": {},
     "output_type": "execute_result"
    }
   ],
   "source": [
    "df1.dtypes"
   ]
  },
  {
   "cell_type": "markdown",
   "id": "57da0a3c-c884-4377-8690-c55020a52c83",
   "metadata": {},
   "source": [
    "Label encoding"
   ]
  },
  {
   "cell_type": "code",
   "execution_count": 91,
   "id": "1e332d8d-8245-45d8-bc01-c7dee7bef0eb",
   "metadata": {},
   "outputs": [],
   "source": [
    "# dropping the unnecessary columns after categorizing: age', 'education-num','hours-per-week'\n",
    "#columns_to_drop = ['age', 'education-num','hours-per-week'] \n",
    "#columns_to_drop = ['hours-per-week'] \n",
    "columns_to_drop = ['age', 'education-num'] \n",
    "#Dropping the specified columns\n",
    "df1 = df1.drop(columns=columns_to_drop)"
   ]
  },
  {
   "cell_type": "code",
   "execution_count": 92,
   "id": "b4afbbec-36bd-4283-b5bf-b5d43f1b7316",
   "metadata": {},
   "outputs": [
    {
     "name": "stdout",
     "output_type": "stream",
     "text": [
      "Mapping for age_group: {'Adult': 0, 'Senior': 1, 'Teen': 2, 'Young Adult': 3}\n",
      "Mapping for workclass: {'Federal-gov': 0, 'Local-gov': 1, 'Never-worked': 2, 'Private': 3, 'Self-emp-inc': 4, 'Self-emp-not-inc': 5, 'State-gov': 6, 'Without-pay': 7, nan: 8}\n",
      "Mapping for marital-status: {'Divorced': 0, 'Married-AF-spouse': 1, 'Married-civ-spouse': 2, 'Married-spouse-absent': 3, 'Never-married': 4, 'Separated': 5, 'Widowed': 6}\n",
      "Mapping for occupation: {'Adm-clerical': 0, 'Armed-Forces': 1, 'Craft-repair': 2, 'Exec-managerial': 3, 'Farming-fishing': 4, 'Handlers-cleaners': 5, 'Machine-op-inspct': 6, 'Other-service': 7, 'Priv-house-serv': 8, 'Prof-specialty': 9, 'Protective-serv': 10, 'Sales': 11, 'Tech-support': 12, 'Transport-moving': 13, nan: 14}\n",
      "Mapping for relationship: {'Husband': 0, 'Not-in-family': 1, 'Other-relative': 2, 'Own-child': 3, 'Unmarried': 4, 'Wife': 5}\n",
      "Mapping for race: {'Amer-Indian-Eskimo': 0, 'Asian-Pac-Islander': 1, 'Black': 2, 'Other': 3, 'White': 4}\n",
      "Mapping for sex: {'Female': 0, 'Male': 1}\n",
      "Mapping for native-country: {'Cambodia': 0, 'Canada': 1, 'China': 2, 'Columbia': 3, 'Cuba': 4, 'Dominican-Republic': 5, 'Ecuador': 6, 'El-Salvador': 7, 'England': 8, 'France': 9, 'Germany': 10, 'Greece': 11, 'Guatemala': 12, 'Haiti': 13, 'Holand-Netherlands': 14, 'Honduras': 15, 'Hong': 16, 'Hungary': 17, 'India': 18, 'Iran': 19, 'Ireland': 20, 'Italy': 21, 'Jamaica': 22, 'Japan': 23, 'Laos': 24, 'Mexico': 25, 'Nicaragua': 26, 'Outlying-US(Guam-USVI-etc)': 27, 'Peru': 28, 'Philippines': 29, 'Poland': 30, 'Portugal': 31, 'Puerto-Rico': 32, 'Scotland': 33, 'South': 34, 'Taiwan': 35, 'Thailand': 36, 'Trinadad&Tobago': 37, 'United-States': 38, 'Vietnam': 39, 'Yugoslavia': 40, nan: 41}\n",
      "Mapping for income: {'<=50K': 0, '>50K': 1}\n",
      "Mapping for education_category: {'Assoc-acdm': 0, 'Assoc-voc': 1, 'Bachelors': 2, 'Doctorate': 3, 'Elementary': 4, 'HS-grad': 5, 'Masters': 6, 'Middle School': 7, 'Not HS-grad': 8, 'Prof-school': 9, 'Some-college': 10}\n"
     ]
    }
   ],
   "source": [
    "#from sklearn.preprocessing import LabelEncoder\n",
    "'''\n",
    "# columns that we are encoding: \n",
    "columns_to_encode = ['age_group','workclass', 'marital-status', 'occupation', 'relationship','race', \n",
    "                     'sex', 'native-country', 'income' ,'education_category','hours-per-week_category'] \n",
    "'''\n",
    "# columns that we are encoding: \n",
    "columns_to_encode = ['age_group','workclass', 'marital-status', 'occupation', 'relationship','race', \n",
    "                     'sex', 'native-country', 'income' ,'education_category'] \n",
    "# Initialize the LabelEncoder\n",
    "le = LabelEncoder()\n",
    "\n",
    "# Dictionary to store mappings for each column\n",
    "label_mappings = {}\n",
    "\n",
    "# Apply label encoding and save mappings\n",
    "for col in columns_to_encode:\n",
    "    df1[col] = le.fit_transform(df1[col])\n",
    "    label_mappings[col] = dict(zip(le.classes_, le.transform(le.classes_)))\n",
    "\n",
    "# Display the mapping of each encoded column\n",
    "for col, mapping in label_mappings.items():\n",
    "    print(f\"Mapping for {col}: {mapping}\")"
   ]
  },
  {
   "cell_type": "markdown",
   "id": "6e8def51-50a1-40c1-9d14-50acae48fa72",
   "metadata": {},
   "source": [
    "# imputing missing values in workclass using random forest classifier"
   ]
  },
  {
   "cell_type": "code",
   "execution_count": 93,
   "id": "c1e79355-ea7f-4f6d-8252-812521dd6ccd",
   "metadata": {},
   "outputs": [
    {
     "data": {
      "text/plain": [
       "workclass\n",
       "3    28311\n",
       "5     3732\n",
       "1     3011\n",
       "8     2411\n",
       "6     1927\n",
       "4     1644\n",
       "0     1397\n",
       "7       21\n",
       "2       10\n",
       "Name: count, dtype: int64"
      ]
     },
     "execution_count": 93,
     "metadata": {},
     "output_type": "execute_result"
    }
   ],
   "source": [
    "df1['workclass'].value_counts()"
   ]
  },
  {
   "cell_type": "code",
   "execution_count": 94,
   "id": "e9a5e2bd-5639-4d98-912d-1c47b87365cd",
   "metadata": {},
   "outputs": [
    {
     "name": "stderr",
     "output_type": "stream",
     "text": [
      "C:\\Users\\rames\\AppData\\Local\\Temp\\ipykernel_26244\\3514968036.py:26: SettingWithCopyWarning: \n",
      "A value is trying to be set on a copy of a slice from a DataFrame.\n",
      "Try using .loc[row_indexer,col_indexer] = value instead\n",
      "\n",
      "See the caveats in the documentation: https://pandas.pydata.org/pandas-docs/stable/user_guide/indexing.html#returning-a-view-versus-a-copy\n",
      "  df_missing['workclass'] = rf.predict(X_missing)\n"
     ]
    }
   ],
   "source": [
    "from sklearn.ensemble import RandomForestClassifier\n",
    "from sklearn.model_selection import train_test_split\n",
    "\n",
    "\n",
    "\n",
    "# Separate rows with and without missing values in 'workclass'\n",
    "df_missing =  df1[df1['workclass'] == 8]\n",
    "df_not_missing =  df1[df1['workclass'] != 8]\n",
    "\n",
    "\n",
    "# imputing missing values in workclass\n",
    "# Define features and target\n",
    "X =  df_not_missing.drop(columns=['workclass'])   # Features\n",
    "y = df_not_missing['workclass'] # Target variable (workclass)\n",
    "\n",
    "\n",
    "# Split the non-missing data into training and testing sets\n",
    "X_train, X_test, y_train, y_test = train_test_split(X, y, test_size=0.2, random_state=42)\n",
    "\n",
    "# Initialize and train the Random Forest Classifier\n",
    "rf = RandomForestClassifier(random_state=42)\n",
    "rf.fit(X_train, y_train)\n",
    "\n",
    "# Use the trained model to predict the 'workclass' for rows with missing values\n",
    "X_missing = df_missing.drop(columns=['workclass'])  # Features for rows with missing values\n",
    "df_missing['workclass'] = rf.predict(X_missing)\n",
    "\n",
    "# Combine the data back together\n",
    "df_imputed= pd.concat([df_not_missing, df_missing])\n",
    "\n",
    "# Display the imputed DataFrame\n",
    "#print(df_imputed)\n",
    "df_imputed['workclass'].value_counts()\n",
    "df1=df_imputed.copy()"
   ]
  },
  {
   "cell_type": "code",
   "execution_count": 95,
   "id": "80f6f9da-ef16-423e-bf17-ee035206c0fc",
   "metadata": {},
   "outputs": [
    {
     "data": {
      "text/plain": [
       "workclass             int32\n",
       "marital-status        int32\n",
       "occupation            int32\n",
       "relationship          int32\n",
       "race                  int32\n",
       "sex                   int32\n",
       "capital-gain          int64\n",
       "capital-loss          int64\n",
       "hours-per-week        int64\n",
       "native-country        int32\n",
       "income                int32\n",
       "age_group             int32\n",
       "education_category    int32\n",
       "dtype: object"
      ]
     },
     "execution_count": 95,
     "metadata": {},
     "output_type": "execute_result"
    }
   ],
   "source": [
    "df1.dtypes"
   ]
  },
  {
   "cell_type": "markdown",
   "id": "6639dcba-ca1f-4baa-bca3-ea9be44df76f",
   "metadata": {},
   "source": [
    "#imputing occupation column using random forest"
   ]
  },
  {
   "cell_type": "code",
   "execution_count": 96,
   "id": "6d5b26ac-41a0-465c-a3a5-d0678c88bd7c",
   "metadata": {},
   "outputs": [
    {
     "data": {
      "text/plain": [
       "workclass\n",
       "3    30525\n",
       "5     3799\n",
       "1     3108\n",
       "6     1944\n",
       "4     1657\n",
       "0     1399\n",
       "7       21\n",
       "2       11\n",
       "Name: count, dtype: int64"
      ]
     },
     "execution_count": 96,
     "metadata": {},
     "output_type": "execute_result"
    }
   ],
   "source": [
    "df1['workclass'].value_counts()"
   ]
  },
  {
   "cell_type": "code",
   "execution_count": 97,
   "id": "6cc77d72-2155-43e3-a498-c66b4aab30d0",
   "metadata": {},
   "outputs": [
    {
     "data": {
      "text/plain": [
       "0"
      ]
     },
     "execution_count": 97,
     "metadata": {},
     "output_type": "execute_result"
    }
   ],
   "source": [
    "df1['workclass'].isnull().sum()"
   ]
  },
  {
   "cell_type": "code",
   "execution_count": 98,
   "id": "9156aebc-854e-492f-9381-6b175e4f7ba2",
   "metadata": {},
   "outputs": [
    {
     "data": {
      "text/plain": [
       "occupation\n",
       "9     5679\n",
       "3     5412\n",
       "0     4813\n",
       "11    4766\n",
       "2     4726\n",
       "7     4366\n",
       "6     2492\n",
       "14    2421\n",
       "13    2070\n",
       "5     1738\n",
       "4     1431\n",
       "12    1351\n",
       "10     944\n",
       "8      240\n",
       "1       15\n",
       "Name: count, dtype: int64"
      ]
     },
     "execution_count": 98,
     "metadata": {},
     "output_type": "execute_result"
    }
   ],
   "source": [
    "df1['occupation'].value_counts()"
   ]
  },
  {
   "cell_type": "code",
   "execution_count": 99,
   "id": "9e85353a-11c2-4aa0-ad6e-1b9d573a9a24",
   "metadata": {},
   "outputs": [
    {
     "name": "stderr",
     "output_type": "stream",
     "text": [
      "C:\\Users\\rames\\AppData\\Local\\Temp\\ipykernel_26244\\54630087.py:26: SettingWithCopyWarning: \n",
      "A value is trying to be set on a copy of a slice from a DataFrame.\n",
      "Try using .loc[row_indexer,col_indexer] = value instead\n",
      "\n",
      "See the caveats in the documentation: https://pandas.pydata.org/pandas-docs/stable/user_guide/indexing.html#returning-a-view-versus-a-copy\n",
      "  df_missing['occupation'] = rf.predict(X_missing)\n"
     ]
    }
   ],
   "source": [
    "from sklearn.ensemble import RandomForestClassifier\n",
    "from sklearn.model_selection import train_test_split\n",
    "\n",
    "\n",
    "\n",
    "# Separate rows with and without missing values in 'occupation'\n",
    "df_missing =  df1[df1['occupation'] == 14]\n",
    "df_not_missing =  df1[df1['occupation'] != 14]\n",
    "\n",
    "\n",
    "# imputing missing values in occupation\n",
    "# Define features and target\n",
    "X =  df_not_missing.drop(columns=['occupation'])   # Features\n",
    "y = df_not_missing['occupation'] # Target variable (occupation)\n",
    "\n",
    "\n",
    "# Split the non-missing data into training and testing sets\n",
    "X_train, X_test, y_train, y_test = train_test_split(X, y, test_size=0.2, random_state=42)\n",
    "\n",
    "# Initialize and train the Random Forest Classifier\n",
    "rf = RandomForestClassifier(random_state=42)\n",
    "rf.fit(X_train, y_train)\n",
    "\n",
    "# Use the trained model to predict the 'workclass' for rows with missing values\n",
    "X_missing = df_missing.drop(columns=['occupation'])  # Features for rows with missing values\n",
    "df_missing['occupation'] = rf.predict(X_missing)\n",
    "\n",
    "# Combine the data back together\n",
    "df_imputed = pd.concat([df_not_missing, df_missing])\n",
    "\n",
    "# Display the imputed DataFrame\n",
    "#print(df_imputed)\n",
    "df_imputed['occupation'].value_counts()\n",
    "df1=df_imputed.copy()"
   ]
  },
  {
   "cell_type": "code",
   "execution_count": 100,
   "id": "02497e9c-26df-4be6-8e15-04737992c30c",
   "metadata": {
    "scrolled": true
   },
   "outputs": [
    {
     "data": {
      "text/plain": [
       "workclass             int32\n",
       "marital-status        int32\n",
       "occupation            int32\n",
       "relationship          int32\n",
       "race                  int32\n",
       "sex                   int32\n",
       "capital-gain          int64\n",
       "capital-loss          int64\n",
       "hours-per-week        int64\n",
       "native-country        int32\n",
       "income                int32\n",
       "age_group             int32\n",
       "education_category    int32\n",
       "dtype: object"
      ]
     },
     "execution_count": 100,
     "metadata": {},
     "output_type": "execute_result"
    }
   ],
   "source": [
    "df1.dtypes"
   ]
  },
  {
   "cell_type": "code",
   "execution_count": 101,
   "id": "624fa18e-fa5b-423f-8fed-69a189461763",
   "metadata": {},
   "outputs": [
    {
     "data": {
      "text/plain": [
       "occupation\n",
       "9     5884\n",
       "3     5594\n",
       "0     5221\n",
       "11    5103\n",
       "2     4992\n",
       "7     4879\n",
       "6     2624\n",
       "13    2220\n",
       "5     1854\n",
       "4     1472\n",
       "12    1378\n",
       "10     972\n",
       "8      256\n",
       "1       15\n",
       "Name: count, dtype: int64"
      ]
     },
     "execution_count": 101,
     "metadata": {},
     "output_type": "execute_result"
    }
   ],
   "source": [
    "df1['occupation'].value_counts()"
   ]
  },
  {
   "cell_type": "markdown",
   "id": "cec00888-4648-4fa8-9b88-a17647341df8",
   "metadata": {},
   "source": [
    "## Oversampling >50k"
   ]
  },
  {
   "cell_type": "code",
   "execution_count": 102,
   "id": "1a083cc2-48f6-4452-a950-fbd323c85e80",
   "metadata": {},
   "outputs": [],
   "source": [
    "df3=df1.copy()"
   ]
  },
  {
   "cell_type": "code",
   "execution_count": 103,
   "id": "ad866898-5740-43a0-be27-414b2dd0052a",
   "metadata": {},
   "outputs": [
    {
     "data": {
      "text/plain": [
       "Index(['workclass', 'marital-status', 'occupation', 'relationship', 'race',\n",
       "       'sex', 'capital-gain', 'capital-loss', 'hours-per-week',\n",
       "       'native-country', 'income', 'age_group', 'education_category'],\n",
       "      dtype='object')"
      ]
     },
     "execution_count": 103,
     "metadata": {},
     "output_type": "execute_result"
    }
   ],
   "source": [
    "df1.columns"
   ]
  },
  {
   "cell_type": "code",
   "execution_count": 104,
   "id": "3a2589f5-1754-4883-9d05-580591ea3eee",
   "metadata": {},
   "outputs": [
    {
     "name": "stdout",
     "output_type": "stream",
     "text": [
      "workclass             int32\n",
      "marital-status        int32\n",
      "occupation            int32\n",
      "relationship          int32\n",
      "race                  int32\n",
      "sex                   int32\n",
      "capital-gain          int64\n",
      "capital-loss          int64\n",
      "hours-per-week        int64\n",
      "native-country        int32\n",
      "income                int32\n",
      "age_group             int32\n",
      "education_category    int32\n",
      "dtype: object\n"
     ]
    }
   ],
   "source": [
    "print(df1.dtypes)"
   ]
  },
  {
   "cell_type": "code",
   "execution_count": 105,
   "id": "0fe6e323-7fb2-4ca0-a98c-df879d187715",
   "metadata": {
    "scrolled": true
   },
   "outputs": [
    {
     "name": "stdout",
     "output_type": "stream",
     "text": [
      "Before SMOTE: income\n",
      "0    25562\n",
      "1     8409\n",
      "Name: count, dtype: int64\n",
      "After SMOTE: income\n",
      "1    25562\n",
      "0    25562\n",
      "Name: count, dtype: int64\n"
     ]
    }
   ],
   "source": [
    "from imblearn.over_sampling import SMOTE\n",
    "from sklearn.model_selection import train_test_split\n",
    "# Assuming 'income' is the target variable with values '>50K' and '<=50K'\n",
    "X = df1.drop(columns=['income'])  # Features\n",
    "y = df1['income']  # Target variable\n",
    "\n",
    "# Split the data into training and testing sets\n",
    "X_train, X_test, y_train, y_test = train_test_split(X, y, test_size=0.2, random_state=42)\n",
    "\n",
    "# Initialize SMOTE\n",
    "smote = SMOTE(random_state=42)\n",
    "\n",
    "# Apply SMOTE to the training data\n",
    "X_train_resampled, y_train_resampled = smote.fit_resample(X_train, y_train)\n",
    "\n",
    "# Check the distribution after oversampling\n",
    "print(\"Before SMOTE:\", y_train.value_counts())\n",
    "print(\"After SMOTE:\", pd.Series(y_train_resampled).value_counts())\n",
    "\n",
    "# Convert the resampled data back into a DataFrame\n",
    "X_resampled_df = pd.DataFrame(X_train_resampled, columns=X.columns)\n",
    "y_resampled_df = pd.DataFrame(y_train_resampled, columns=['income'])\n",
    "\n",
    "# Combine the features and target into a single DataFrame\n",
    "df_resampled = pd.concat([X_resampled_df, y_resampled_df], axis=1)\n"
   ]
  },
  {
   "cell_type": "code",
   "execution_count": 106,
   "id": "82288121-9c72-4286-866e-98d7342f3119",
   "metadata": {
    "scrolled": true
   },
   "outputs": [
    {
     "data": {
      "text/html": [
       "<div>\n",
       "<style scoped>\n",
       "    .dataframe tbody tr th:only-of-type {\n",
       "        vertical-align: middle;\n",
       "    }\n",
       "\n",
       "    .dataframe tbody tr th {\n",
       "        vertical-align: top;\n",
       "    }\n",
       "\n",
       "    .dataframe thead th {\n",
       "        text-align: right;\n",
       "    }\n",
       "</style>\n",
       "<table border=\"1\" class=\"dataframe\">\n",
       "  <thead>\n",
       "    <tr style=\"text-align: right;\">\n",
       "      <th></th>\n",
       "      <th>workclass</th>\n",
       "      <th>marital-status</th>\n",
       "      <th>occupation</th>\n",
       "      <th>relationship</th>\n",
       "      <th>race</th>\n",
       "      <th>sex</th>\n",
       "      <th>capital-gain</th>\n",
       "      <th>capital-loss</th>\n",
       "      <th>hours-per-week</th>\n",
       "      <th>native-country</th>\n",
       "      <th>age_group</th>\n",
       "      <th>education_category</th>\n",
       "      <th>income</th>\n",
       "    </tr>\n",
       "  </thead>\n",
       "  <tbody>\n",
       "    <tr>\n",
       "      <th>0</th>\n",
       "      <td>6</td>\n",
       "      <td>2</td>\n",
       "      <td>9</td>\n",
       "      <td>0</td>\n",
       "      <td>1</td>\n",
       "      <td>1</td>\n",
       "      <td>0</td>\n",
       "      <td>0</td>\n",
       "      <td>70</td>\n",
       "      <td>41</td>\n",
       "      <td>0</td>\n",
       "      <td>3</td>\n",
       "      <td>1</td>\n",
       "    </tr>\n",
       "    <tr>\n",
       "      <th>1</th>\n",
       "      <td>1</td>\n",
       "      <td>3</td>\n",
       "      <td>9</td>\n",
       "      <td>1</td>\n",
       "      <td>4</td>\n",
       "      <td>0</td>\n",
       "      <td>0</td>\n",
       "      <td>0</td>\n",
       "      <td>40</td>\n",
       "      <td>38</td>\n",
       "      <td>3</td>\n",
       "      <td>2</td>\n",
       "      <td>0</td>\n",
       "    </tr>\n",
       "    <tr>\n",
       "      <th>2</th>\n",
       "      <td>3</td>\n",
       "      <td>4</td>\n",
       "      <td>7</td>\n",
       "      <td>1</td>\n",
       "      <td>4</td>\n",
       "      <td>0</td>\n",
       "      <td>0</td>\n",
       "      <td>0</td>\n",
       "      <td>40</td>\n",
       "      <td>38</td>\n",
       "      <td>3</td>\n",
       "      <td>2</td>\n",
       "      <td>0</td>\n",
       "    </tr>\n",
       "    <tr>\n",
       "      <th>3</th>\n",
       "      <td>1</td>\n",
       "      <td>2</td>\n",
       "      <td>10</td>\n",
       "      <td>0</td>\n",
       "      <td>4</td>\n",
       "      <td>1</td>\n",
       "      <td>0</td>\n",
       "      <td>0</td>\n",
       "      <td>45</td>\n",
       "      <td>38</td>\n",
       "      <td>0</td>\n",
       "      <td>2</td>\n",
       "      <td>1</td>\n",
       "    </tr>\n",
       "    <tr>\n",
       "      <th>4</th>\n",
       "      <td>3</td>\n",
       "      <td>4</td>\n",
       "      <td>7</td>\n",
       "      <td>3</td>\n",
       "      <td>2</td>\n",
       "      <td>1</td>\n",
       "      <td>0</td>\n",
       "      <td>0</td>\n",
       "      <td>40</td>\n",
       "      <td>38</td>\n",
       "      <td>3</td>\n",
       "      <td>10</td>\n",
       "      <td>0</td>\n",
       "    </tr>\n",
       "    <tr>\n",
       "      <th>...</th>\n",
       "      <td>...</td>\n",
       "      <td>...</td>\n",
       "      <td>...</td>\n",
       "      <td>...</td>\n",
       "      <td>...</td>\n",
       "      <td>...</td>\n",
       "      <td>...</td>\n",
       "      <td>...</td>\n",
       "      <td>...</td>\n",
       "      <td>...</td>\n",
       "      <td>...</td>\n",
       "      <td>...</td>\n",
       "      <td>...</td>\n",
       "    </tr>\n",
       "    <tr>\n",
       "      <th>51119</th>\n",
       "      <td>5</td>\n",
       "      <td>0</td>\n",
       "      <td>6</td>\n",
       "      <td>4</td>\n",
       "      <td>4</td>\n",
       "      <td>0</td>\n",
       "      <td>7430</td>\n",
       "      <td>0</td>\n",
       "      <td>46</td>\n",
       "      <td>38</td>\n",
       "      <td>0</td>\n",
       "      <td>7</td>\n",
       "      <td>1</td>\n",
       "    </tr>\n",
       "    <tr>\n",
       "      <th>51120</th>\n",
       "      <td>3</td>\n",
       "      <td>2</td>\n",
       "      <td>9</td>\n",
       "      <td>0</td>\n",
       "      <td>4</td>\n",
       "      <td>1</td>\n",
       "      <td>15024</td>\n",
       "      <td>0</td>\n",
       "      <td>60</td>\n",
       "      <td>38</td>\n",
       "      <td>0</td>\n",
       "      <td>2</td>\n",
       "      <td>1</td>\n",
       "    </tr>\n",
       "    <tr>\n",
       "      <th>51121</th>\n",
       "      <td>3</td>\n",
       "      <td>2</td>\n",
       "      <td>11</td>\n",
       "      <td>0</td>\n",
       "      <td>4</td>\n",
       "      <td>1</td>\n",
       "      <td>0</td>\n",
       "      <td>0</td>\n",
       "      <td>52</td>\n",
       "      <td>38</td>\n",
       "      <td>0</td>\n",
       "      <td>1</td>\n",
       "      <td>1</td>\n",
       "    </tr>\n",
       "    <tr>\n",
       "      <th>51122</th>\n",
       "      <td>3</td>\n",
       "      <td>2</td>\n",
       "      <td>11</td>\n",
       "      <td>0</td>\n",
       "      <td>4</td>\n",
       "      <td>1</td>\n",
       "      <td>0</td>\n",
       "      <td>0</td>\n",
       "      <td>30</td>\n",
       "      <td>38</td>\n",
       "      <td>0</td>\n",
       "      <td>5</td>\n",
       "      <td>1</td>\n",
       "    </tr>\n",
       "    <tr>\n",
       "      <th>51123</th>\n",
       "      <td>3</td>\n",
       "      <td>2</td>\n",
       "      <td>11</td>\n",
       "      <td>0</td>\n",
       "      <td>4</td>\n",
       "      <td>1</td>\n",
       "      <td>0</td>\n",
       "      <td>0</td>\n",
       "      <td>40</td>\n",
       "      <td>38</td>\n",
       "      <td>0</td>\n",
       "      <td>8</td>\n",
       "      <td>1</td>\n",
       "    </tr>\n",
       "  </tbody>\n",
       "</table>\n",
       "<p>51124 rows × 13 columns</p>\n",
       "</div>"
      ],
      "text/plain": [
       "       workclass  marital-status  occupation  relationship  race  sex  \\\n",
       "0              6               2           9             0     1    1   \n",
       "1              1               3           9             1     4    0   \n",
       "2              3               4           7             1     4    0   \n",
       "3              1               2          10             0     4    1   \n",
       "4              3               4           7             3     2    1   \n",
       "...          ...             ...         ...           ...   ...  ...   \n",
       "51119          5               0           6             4     4    0   \n",
       "51120          3               2           9             0     4    1   \n",
       "51121          3               2          11             0     4    1   \n",
       "51122          3               2          11             0     4    1   \n",
       "51123          3               2          11             0     4    1   \n",
       "\n",
       "       capital-gain  capital-loss  hours-per-week  native-country  age_group  \\\n",
       "0                 0             0              70              41          0   \n",
       "1                 0             0              40              38          3   \n",
       "2                 0             0              40              38          3   \n",
       "3                 0             0              45              38          0   \n",
       "4                 0             0              40              38          3   \n",
       "...             ...           ...             ...             ...        ...   \n",
       "51119          7430             0              46              38          0   \n",
       "51120         15024             0              60              38          0   \n",
       "51121             0             0              52              38          0   \n",
       "51122             0             0              30              38          0   \n",
       "51123             0             0              40              38          0   \n",
       "\n",
       "       education_category  income  \n",
       "0                       3       1  \n",
       "1                       2       0  \n",
       "2                       2       0  \n",
       "3                       2       1  \n",
       "4                      10       0  \n",
       "...                   ...     ...  \n",
       "51119                   7       1  \n",
       "51120                   2       1  \n",
       "51121                   1       1  \n",
       "51122                   5       1  \n",
       "51123                   8       1  \n",
       "\n",
       "[51124 rows x 13 columns]"
      ]
     },
     "execution_count": 106,
     "metadata": {},
     "output_type": "execute_result"
    }
   ],
   "source": [
    "df_resampled"
   ]
  },
  {
   "cell_type": "code",
   "execution_count": 107,
   "id": "6ec6fcef-adab-49ed-b3ea-4ef5ab7af920",
   "metadata": {},
   "outputs": [
    {
     "data": {
      "text/plain": [
       "income\n",
       "1    25562\n",
       "0    25562\n",
       "Name: count, dtype: int64"
      ]
     },
     "execution_count": 107,
     "metadata": {},
     "output_type": "execute_result"
    }
   ],
   "source": [
    "y_train_resampled.value_counts()"
   ]
  },
  {
   "cell_type": "code",
   "execution_count": 108,
   "id": "1b5ec748-f528-44ec-a657-181fb3c5caca",
   "metadata": {},
   "outputs": [],
   "source": [
    "df1=df_resampled.copy()"
   ]
  },
  {
   "cell_type": "code",
   "execution_count": 109,
   "id": "44e427c6-a4ba-4324-92e2-0d81d0f7bccd",
   "metadata": {},
   "outputs": [
    {
     "data": {
      "text/plain": [
       "(51124, 13)"
      ]
     },
     "execution_count": 109,
     "metadata": {},
     "output_type": "execute_result"
    }
   ],
   "source": [
    "df1.shape"
   ]
  },
  {
   "cell_type": "markdown",
   "id": "24193e8b-e2da-4799-9214-3f7ab301adc3",
   "metadata": {},
   "source": [
    "#Now doing feature selection after oversampling"
   ]
  },
  {
   "cell_type": "code",
   "execution_count": 110,
   "id": "3b50a3a0-c88c-4ff7-8f3e-7a97a9e5bf0d",
   "metadata": {},
   "outputs": [
    {
     "data": {
      "text/plain": [
       "income                1.000000\n",
       "hours-per-week        0.272651\n",
       "sex                   0.233740\n",
       "capital-gain          0.193033\n",
       "capital-loss          0.148457\n",
       "race                  0.094449\n",
       "occupation            0.036654\n",
       "native-country        0.029027\n",
       "workclass            -0.044264\n",
       "education_category   -0.152717\n",
       "marital-status       -0.262700\n",
       "relationship         -0.306178\n",
       "age_group            -0.344226\n",
       "Name: income, dtype: float64"
      ]
     },
     "execution_count": 110,
     "metadata": {},
     "output_type": "execute_result"
    }
   ],
   "source": [
    "df1.corr()['income'].sort_values(ascending=False)"
   ]
  },
  {
   "cell_type": "code",
   "execution_count": 111,
   "id": "3f023799-6418-4ae7-8eba-eca60ce291d5",
   "metadata": {},
   "outputs": [
    {
     "data": {
      "image/png": "[encoded data removed]",
      "text/plain": [
       "<Figure size 640x480 with 2 Axes>"
      ]
     },
     "metadata": {},
     "output_type": "display_data"
    }
   ],
   "source": [
    "# Compute the correlation matrix\n",
    "correlation_matrix = df1.corr()\n",
    "# Create the heatmap\n",
    "#plt.figure(figsize=(10, 8))  # Set the figure size\n",
    "sns.heatmap(correlation_matrix, annot=True, cmap='coolwarm', linewidths=0.5, \n",
    "            annot_kws={\"size\": 7, \"color\": \"black\"},  # Annotation options\n",
    "            fmt=\".2f\") \n",
    "\n",
    "# Set the axis labels and title\n",
    "plt.title(\"Correlation Matrix Heatmap\", fontsize=16)  # Set title and size\n",
    "plt.xlabel(\"Features\", fontsize=14)  # X-axis label\n",
    "plt.ylabel(\"Features\", fontsize=14)  # Y-axis label\n",
    "\n",
    "# Rotate x-axis labels for better visibility\n",
    "plt.xticks(rotation=45, ha='right')  # Rotate the x labels for readability\n",
    "\n",
    "# Show the heatmap\n",
    "plt.show()"
   ]
  },
  {
   "cell_type": "markdown",
   "id": "8c873cc9-276b-4b4f-8f1e-fd2ec9529a7f",
   "metadata": {},
   "source": [
    "Feature selection Starting the training process"
   ]
  },
  {
   "cell_type": "code",
   "execution_count": 112,
   "id": "9f4e4c40-47f0-44ad-b119-bd7d93ec6dce",
   "metadata": {},
   "outputs": [
    {
     "name": "stdout",
     "output_type": "stream",
     "text": [
      "       workclass  marital-status  occupation  relationship  race  sex  \\\n",
      "9555           1               2           9             5     4    0   \n",
      "44343          0               2          10             0     2    1   \n",
      "44098          3               0           3             1     4    0   \n",
      "34930          3               2           2             0     4    1   \n",
      "12400          3               4          11             1     4    1   \n",
      "...          ...             ...         ...           ...   ...  ...   \n",
      "11284          1               2          10             0     4    1   \n",
      "44732          3               2          13             0     4    1   \n",
      "38158          3               2           2             0     2    1   \n",
      "860            3               4           7             2     4    0   \n",
      "15795          3               2           4             0     4    1   \n",
      "\n",
      "       capital-gain  capital-loss  hours-per-week  native-country  age_group  \\\n",
      "9555              0             0              40              38          0   \n",
      "44343             0             0              40              38          0   \n",
      "44098             0             0              45              38          0   \n",
      "34930             0             0              40              38          0   \n",
      "12400             0             0              40              38          0   \n",
      "...             ...           ...             ...             ...        ...   \n",
      "11284          7688             0              35              38          0   \n",
      "44732             0             0              60              38          0   \n",
      "38158             0             0              40              38          0   \n",
      "860               0             0              30              38          0   \n",
      "15795             0             0              65              40          0   \n",
      "\n",
      "       education_category  \n",
      "9555                    6  \n",
      "44343                  10  \n",
      "44098                   2  \n",
      "34930                   8  \n",
      "12400                   5  \n",
      "...                   ...  \n",
      "11284                   6  \n",
      "44732                   7  \n",
      "38158                   5  \n",
      "860                     5  \n",
      "15795                   2  \n",
      "\n",
      "[40899 rows x 12 columns]\n"
     ]
    }
   ],
   "source": [
    "#from sklearn.model_selection import train_test_split\n",
    "#from sklearn.preprocessing import LabelEncoder, StandardScaler\n",
    "\n",
    "\n",
    "X = df1.drop('income',axis=1)\n",
    "y = df1['income']\n",
    "\n",
    "\n",
    "\n",
    "# Train-test split\n",
    "X_train, X_test, y_train, y_test = train_test_split(X, y, test_size=0.2, random_state=42)\n",
    "\n",
    "# Optionally scale numerical features\n",
    "#scaler = StandardScaler()\n",
    "#X_train = scaler.fit_transform(X_train)\n",
    "#X_test = scaler.transform(X_test)\n",
    "\n",
    "print(X_train)"
   ]
  },
  {
   "cell_type": "code",
   "execution_count": 113,
   "id": "52241465-8ac3-4968-9c2a-a4d50c4dd0e6",
   "metadata": {},
   "outputs": [
    {
     "name": "stdout",
     "output_type": "stream",
     "text": [
      "               Feature    Chi2 Score        p-value\n",
      "6         capital-gain  1.023143e+08   0.000000e+00\n",
      "7         capital-loss  2.064779e+06   0.000000e+00\n",
      "8       hours-per-week  1.325031e+04   0.000000e+00\n",
      "10           age_group  1.067722e+04   0.000000e+00\n",
      "3         relationship  1.057547e+04   0.000000e+00\n",
      "1       marital-status  2.694915e+03   0.000000e+00\n",
      "11  education_category  2.151002e+03   0.000000e+00\n",
      "5                  sex  8.179864e+02  6.630554e-180\n",
      "2           occupation  1.789457e+02   8.234064e-41\n",
      "4                 race  8.972284e+01   2.739733e-21\n",
      "9       native-country  4.653623e+01   8.994017e-12\n",
      "0            workclass  4.504173e+01   1.928800e-11\n"
     ]
    }
   ],
   "source": [
    "#Feature selection for chi2\n",
    "# Initialize SelectKBest with all features\n",
    "selector = SelectKBest(score_func=chi2, k=11)  # Set k=X.shape[1] to get all feature scores\n",
    "selector.fit(X, y)\n",
    "\n",
    "# Get feature scores and p-values\n",
    "chi2_scores = selector.scores_\n",
    "p_values = selector.pvalues_\n",
    "\n",
    "# Ensure scores and p-values are numeric\n",
    "chi2_scores = pd.to_numeric(chi2_scores, errors='coerce')\n",
    "p_values = pd.to_numeric(p_values, errors='coerce')\n",
    "\n",
    "# Create a DataFrame with features and their scores\n",
    "feature_scores = pd.DataFrame({\n",
    "    'Feature': X.columns,\n",
    "    'Chi2 Score': chi2_scores,\n",
    "    'p-value': p_values\n",
    "    \n",
    "})\n",
    "\n",
    "#Sort the features by Chi-square scores in descending order\n",
    "#sorted_features = feature_scores.sort_values(by='Chi2 Score', ascending=False)\n",
    "#feature_scores['Chi2_Score'], feature_scores['p-value']\n",
    "print(feature_scores.sort_values(by='Chi2 Score',ascending=False))"
   ]
  },
  {
   "cell_type": "markdown",
   "id": "6569905a-78a0-40f6-80c5-77614ad95ad9",
   "metadata": {},
   "source": [
    "#anova"
   ]
  },
  {
   "cell_type": "code",
   "execution_count": 114,
   "id": "4db978ef-22d9-4110-822f-2992bf887584",
   "metadata": {},
   "outputs": [
    {
     "name": "stdout",
     "output_type": "stream",
     "text": [
      "               Feature  ANOVA Score        p-value\n",
      "10           age_group  6871.786760   0.000000e+00\n",
      "3         relationship  5288.169087   0.000000e+00\n",
      "8       hours-per-week  4105.522906   0.000000e+00\n",
      "1       marital-status  3789.511656   0.000000e+00\n",
      "5                  sex  2954.434087   0.000000e+00\n",
      "6         capital-gain  1978.629985   0.000000e+00\n",
      "11  education_category  1220.764741  2.473113e-264\n",
      "7         capital-loss  1152.094515  9.524604e-250\n",
      "4                 race   460.143010  1.258090e-101\n",
      "0            workclass   100.361066   1.335341e-23\n",
      "2           occupation    68.774015   1.130750e-16\n",
      "9       native-country    43.108997   5.226784e-11\n"
     ]
    }
   ],
   "source": [
    "from sklearn.feature_selection import SelectKBest, f_classif\n",
    "\n",
    "\n",
    "# If you want to select all features, use 'all'\n",
    "selector = SelectKBest(score_func=f_classif, k='all')  # 'all' will select all features\n",
    "selector.fit(X, y)\n",
    "\n",
    "# Get feature scores and p-values\n",
    "anova_scores = selector.scores_\n",
    "p_values = selector.pvalues_\n",
    "\n",
    "# Create a DataFrame with features and their scores\n",
    "feature_scores = pd.DataFrame({\n",
    "    'Feature': X.columns,\n",
    "    'ANOVA Score': anova_scores,\n",
    "    'p-value': p_values\n",
    "})\n",
    "\n",
    "# Sort the features by ANOVA score in descending order\n",
    "sorted_features = feature_scores.sort_values(by='ANOVA Score', ascending=False)\n",
    "print(sorted_features)"
   ]
  },
  {
   "cell_type": "markdown",
   "id": "4985a913-c7a2-449f-bd48-99133f8b6ec7",
   "metadata": {},
   "source": [
    "# Wrapper Method: Recursive Feature Elimination (RFE):"
   ]
  },
  {
   "cell_type": "code",
   "execution_count": 115,
   "id": "89777947-c33a-4ff2-8df0-df901c2f69f5",
   "metadata": {},
   "outputs": [
    {
     "name": "stdout",
     "output_type": "stream",
     "text": [
      "               Feature  Rank\n",
      "0            workclass     1\n",
      "1       marital-status     1\n",
      "2           occupation     1\n",
      "3         relationship     1\n",
      "4                 race     1\n",
      "5                  sex     1\n",
      "6         capital-gain     1\n",
      "7         capital-loss     1\n",
      "8       hours-per-week     1\n",
      "9       native-country     1\n",
      "10           age_group     1\n",
      "11  education_category     1\n"
     ]
    }
   ],
   "source": [
    "# Increase max_iter to allow more iterations\n",
    "model = LogisticRegression(max_iter=5000)\n",
    "rfe = RFE(model, n_features_to_select=12)\n",
    "fit = rfe.fit(X, y)\n",
    "\n",
    "# Get the selected features\n",
    "#print(\"Selected Features: \", X.columns[fit.support_])\n",
    "\n",
    "\n",
    "# Get the feature rankings\n",
    "ranking = rfe.ranking_\n",
    "\n",
    "# Create a DataFrame to display feature names and their ranks\n",
    "feature_ranking = pd.DataFrame({\n",
    "    'Feature': X.columns,\n",
    "    'Rank': ranking\n",
    "})\n",
    "\n",
    "# Sort the features by rank (1 = most important)\n",
    "sorted_feature_ranking = feature_ranking.sort_values(by='Rank',ascending=False)\n",
    "\n",
    "# Print the ranking\n",
    "print(sorted_feature_ranking)"
   ]
  },
  {
   "cell_type": "code",
   "execution_count": 116,
   "id": "2a506a05-361b-4ac2-a11c-2fcc891e431f",
   "metadata": {},
   "outputs": [],
   "source": [
    "\n",
    "models=[]\n",
    "models.append(('LogisticRegression', LogisticRegression(max_iter=1000)))\n",
    "models.append(('Naive Bayes',GaussianNB()))\n",
    "models.append(('KNN',KNeighborsClassifier(n_neighbors=3)))\n",
    "models.append(('RandomForestClassifier',RandomForestClassifier()))\n",
    "models.append(('DecisionTreeClassifier',DecisionTreeClassifier()))\n",
    "models.append(('XGBClassifier',XGBClassifier(objective='binary:logistic', eval_metric='logloss')))\n",
    "\n"
   ]
  },
  {
   "cell_type": "code",
   "execution_count": 118,
   "id": "901748b8-91de-46fb-a1c9-d2f9ed452ac1",
   "metadata": {},
   "outputs": [
    {
     "name": "stdout",
     "output_type": "stream",
     "text": [
      "LogisticRegression LogisticRegression(max_iter=1000)\n",
      "\n"
     ]
    },
    {
     "name": "stderr",
     "output_type": "stream",
     "text": [
      "C:\\Users\\rames\\anaconda3\\Lib\\site-packages\\sklearn\\linear_model\\_logistic.py:458: ConvergenceWarning: lbfgs failed to converge (status=1):\n",
      "STOP: TOTAL NO. of ITERATIONS REACHED LIMIT.\n",
      "\n",
      "Increase the number of iterations (max_iter) or scale the data as shown in:\n",
      "    https://scikit-learn.org/stable/modules/preprocessing.html\n",
      "Please also refer to the documentation for alternative solver options:\n",
      "    https://scikit-learn.org/stable/modules/linear_model.html#logistic-regression\n",
      "  n_iter_i = _check_optimize_result(\n"
     ]
    },
    {
     "name": "stdout",
     "output_type": "stream",
     "text": [
      "Confusion Matrix: \n",
      "[[3709 1464]\n",
      " [1147 3905]]\n",
      "accuracy:  0.7446454767726162\n",
      "precision:  0.7273235239336934\n",
      "recall:  0.7729612034837688\n",
      "f1score:  0.7494482295365128\n",
      "\n",
      "\n",
      "\n",
      "\n",
      "Naive Bayes GaussianNB()\n",
      "\n",
      "Confusion Matrix: \n",
      "[[4849  324]\n",
      " [3183 1869]]\n",
      "accuracy:  0.6570171149144254\n",
      "precision:  0.8522571819425444\n",
      "recall:  0.36995249406175773\n",
      "f1score:  0.5159420289855072\n",
      "\n",
      "\n",
      "\n",
      "\n",
      "KNN KNeighborsClassifier(n_neighbors=3)\n",
      "\n",
      "Confusion Matrix: \n",
      "[[4217  956]\n",
      " [ 508 4544]]\n",
      "accuracy:  0.8568215158924205\n",
      "precision:  0.8261818181818181\n",
      "recall:  0.89944576405384\n",
      "f1score:  0.8612585291887793\n",
      "\n",
      "\n",
      "\n",
      "\n",
      "RandomForestClassifier RandomForestClassifier()\n",
      "\n",
      "Confusion Matrix: \n",
      "[[4396  777]\n",
      " [ 489 4563]]\n",
      "accuracy:  0.8761858190709046\n",
      "precision:  0.854494382022472\n",
      "recall:  0.9032066508313539\n",
      "f1score:  0.878175519630485\n",
      "\n",
      "\n",
      "\n",
      "\n",
      "DecisionTreeClassifier DecisionTreeClassifier()\n",
      "\n",
      "Confusion Matrix: \n",
      "[[4288  885]\n",
      " [ 615 4437]]\n",
      "accuracy:  0.8533007334963325\n",
      "precision:  0.8337091319052987\n",
      "recall:  0.8782660332541568\n",
      "f1score:  0.8554077501445922\n",
      "\n",
      "\n",
      "\n",
      "\n",
      "XGBClassifier XGBClassifier(base_score=None, booster=None, callbacks=None,\n",
      "              colsample_bylevel=None, colsample_bynode=None,\n",
      "              colsample_bytree=None, device=None, early_stopping_rounds=None,\n",
      "              enable_categorical=False, eval_metric='logloss',\n",
      "              feature_types=None, gamma=None, grow_policy=None,\n",
      "              importance_type=None, interaction_constraints=None,\n",
      "              learning_rate=None, max_bin=None, max_cat_threshold=None,\n",
      "              max_cat_to_onehot=None, max_delta_step=None, max_depth=None,\n",
      "              max_leaves=None, min_child_weight=None, missing=nan,\n",
      "              monotone_constraints=None, multi_strategy=None, n_estimators=None,\n",
      "              n_jobs=None, num_parallel_tree=None, random_state=None, ...)\n",
      "\n",
      "Confusion Matrix: \n",
      "[[4399  774]\n",
      " [ 511 4541]]\n",
      "accuracy:  0.8743276283618582\n",
      "precision:  0.8543744120413923\n",
      "recall:  0.8988519398258116\n",
      "f1score:  0.8760490016398187\n",
      "\n",
      "\n",
      "\n",
      "\n"
     ]
    }
   ],
   "source": [
    "\n",
    "\n",
    "for name, model in models:\n",
    "    print(name,model)\n",
    "    print()\n",
    "    model.fit(X_train, y_train)\n",
    "    y_pred = model.predict(X_test)\n",
    "    print(\"Confusion Matrix: \")\n",
    "    print(confusion_matrix(y_test,y_pred))\n",
    "   \n",
    "    print(\"accuracy: \", accuracy_score(y_test, y_pred))\n",
    "    \n",
    "    print(\"precision: \", precision_score(y_test, y_pred) )   \n",
    "   \n",
    "    print(\"recall: \", recall_score(y_test, y_pred))\n",
    "    \n",
    "    print(\"f1score: \", f1_score(y_test, y_pred))\n",
    "    print('\\n')\n",
    "    print('\\n')\n",
    "    "
   ]
  },
  {
   "cell_type": "markdown",
   "id": "fc7dfb50-e975-4dc6-9aab-79d879a03560",
   "metadata": {},
   "source": [
    "Random forest for seletcing feature"
   ]
  },
  {
   "cell_type": "code",
   "execution_count": 119,
   "id": "1260e196-6e06-45f9-9e37-ba6a1ee72dd6",
   "metadata": {},
   "outputs": [
    {
     "name": "stdout",
     "output_type": "stream",
     "text": [
      "               Feature  Importance\n",
      "1       marital-status    0.182080\n",
      "3         relationship    0.143395\n",
      "8       hours-per-week    0.132978\n",
      "6         capital-gain    0.115460\n",
      "2           occupation    0.102468\n",
      "11  education_category    0.090249\n",
      "10           age_group    0.069373\n",
      "0            workclass    0.050568\n",
      "7         capital-loss    0.040669\n",
      "9       native-country    0.031129\n",
      "4                 race    0.022336\n",
      "5                  sex    0.019296\n"
     ]
    },
    {
     "data": {
      "image/png": "[encoded data removed]",
      "text/plain": [
       "<Figure size 1000x600 with 1 Axes>"
      ]
     },
     "metadata": {},
     "output_type": "display_data"
    }
   ],
   "source": [
    "import pandas as pd\n",
    "import numpy as np\n",
    "from sklearn.ensemble import RandomForestClassifier  # or RandomForestRegressor for regression\n",
    "from sklearn.model_selection import train_test_split\n",
    "import matplotlib.pyplot as plt\n",
    "import seaborn as sns\n",
    "\n",
    "# Assuming df1 is your DataFrame and 'target' is your target column\n",
    "X = df1.drop('income', axis=1)  # Features\n",
    "y = df1['income']  # Target variable\n",
    "\n",
    "# Split the data into training and testing sets\n",
    "X_train, X_test, y_train, y_test = train_test_split(X, y, test_size=0.3, random_state=42)\n",
    "\n",
    "# Create and train a Random Forest Classifier (or Regressor)\n",
    "model = RandomForestClassifier(n_estimators=100, random_state=42)\n",
    "model.fit(X_train, y_train)\n",
    "\n",
    "# Get feature importances\n",
    "importances = model.feature_importances_\n",
    "\n",
    "# Create a DataFrame for better visualization\n",
    "feature_importances = pd.DataFrame({\n",
    "    'Feature': X.columns,\n",
    "    'Importance': importances\n",
    "})\n",
    "\n",
    "# Sort features by importance\n",
    "feature_importances = feature_importances.sort_values(by='Importance', ascending=False)\n",
    "\n",
    "# Display the most important features\n",
    "print(feature_importances)\n",
    "\n",
    "# Optional: Plot the feature importances\n",
    "plt.figure(figsize=(10, 6))\n",
    "sns.barplot(x='Importance', y='Feature', data=feature_importances)\n",
    "plt.title('Feature Importance Using Random Forest')\n",
    "plt.show()\n"
   ]
  },
  {
   "cell_type": "markdown",
   "id": "b23e2061-9685-40cb-bd65-02ce827c78fe",
   "metadata": {},
   "source": [
    "Now changing the feature selection"
   ]
  },
  {
   "cell_type": "code",
   "execution_count": 126,
   "id": "17dc7e1d-fb73-4899-b98a-7d02347e7750",
   "metadata": {},
   "outputs": [],
   "source": [
    "#chi2 top 8\n",
    "X = df1[['capital-gain','capital-loss','hours-per-week','age_group','relationship','marital-status','education_category','sex']]\n",
    "y = df1['income']"
   ]
  },
  {
   "cell_type": "code",
   "execution_count": 128,
   "id": "17e180f1-9682-40c8-ae4f-19bbd401ddb4",
   "metadata": {},
   "outputs": [],
   "source": [
    "#Anova\n",
    "X = df1[['age_group', 'relationship','hours-per-week', 'marital-status',  \n",
    "        'sex', 'capital-gain','education_category','race','capital-loss']]\n",
    "  \n",
    "y = df1['income']"
   ]
  },
  {
   "cell_type": "code",
   "execution_count": 133,
   "id": "1948d8d7-5d85-4ab8-927c-0c6cdd955b16",
   "metadata": {},
   "outputs": [],
   "source": [
    "#RFE\n",
    "X = df1.drop('income',axis=1)\n",
    "y = df1['income']\n",
    "\n",
    "    "
   ]
  },
  {
   "cell_type": "code",
   "execution_count": 134,
   "id": "ad980283-0664-4874-bfb1-cb48a3b83b25",
   "metadata": {},
   "outputs": [],
   "source": [
    "#Random foirest\n",
    "X = df1[['marital-status', 'relationship', 'hours-per-week','capital-gain',  \n",
    "        'occupation', 'education_category', 'age_group','workclass']]\n",
    "        \n",
    "y = df1['income']\n"
   ]
  },
  {
   "cell_type": "code",
   "execution_count": 135,
   "id": "b2203fab-127e-4e7b-a0df-0930478a36fb",
   "metadata": {},
   "outputs": [
    {
     "name": "stdout",
     "output_type": "stream",
     "text": [
      "       marital-status  relationship  hours-per-week  capital-gain  occupation  \\\n",
      "9555                2             5              40             0           9   \n",
      "44343               2             0              40             0          10   \n",
      "44098               0             1              45             0           3   \n",
      "34930               2             0              40             0           2   \n",
      "12400               4             1              40             0          11   \n",
      "...               ...           ...             ...           ...         ...   \n",
      "11284               2             0              35          7688          10   \n",
      "44732               2             0              60             0          13   \n",
      "38158               2             0              40             0           2   \n",
      "860                 4             2              30             0           7   \n",
      "15795               2             0              65             0           4   \n",
      "\n",
      "       education_category  age_group  workclass  \n",
      "9555                    6          0          1  \n",
      "44343                  10          0          0  \n",
      "44098                   2          0          3  \n",
      "34930                   8          0          3  \n",
      "12400                   5          0          3  \n",
      "...                   ...        ...        ...  \n",
      "11284                   6          0          1  \n",
      "44732                   7          0          3  \n",
      "38158                   5          0          3  \n",
      "860                     5          0          3  \n",
      "15795                   2          0          3  \n",
      "\n",
      "[40899 rows x 8 columns]\n"
     ]
    }
   ],
   "source": [
    "#from sklearn.model_selection import train_test_split\n",
    "#from sklearn.preprocessing import LabelEncoder, StandardScaler\n",
    "\n",
    "# Train-test split\n",
    "X_train, X_test, y_train, y_test = train_test_split(X, y, test_size=0.2, random_state=42)\n",
    "\n",
    "# Optionally scale numerical features\n",
    "#scaler = StandardScaler()\n",
    "#X_train = scaler.fit_transform(X_train)\n",
    "#X_test = scaler.transform(X_test)\n",
    "\n",
    "print(X_train)"
   ]
  },
  {
   "cell_type": "code",
   "execution_count": 136,
   "id": "9aa7349c-dfd9-4334-a2a3-852174be374d",
   "metadata": {},
   "outputs": [],
   "source": [
    "models=[]\n",
    "models.append(('LogisticRegression', LogisticRegression(max_iter=1000)))\n",
    "models.append(('Naive Bayes',GaussianNB()))\n",
    "models.append(('KNN',KNeighborsClassifier(n_neighbors=3)))\n",
    "models.append(('RandomForestClassifier',RandomForestClassifier()))\n",
    "models.append(('DecisionTreeClassifier',DecisionTreeClassifier()))\n",
    "models.append((' Neural Network Classifier()', MLPClassifier()))\n",
    "models.append(('XGBClassifier',XGBClassifier()))\n"
   ]
  },
  {
   "cell_type": "code",
   "execution_count": 137,
   "id": "62bf767e-dd9d-4bed-8fd0-d8d3a494b639",
   "metadata": {
    "scrolled": true
   },
   "outputs": [
    {
     "name": "stdout",
     "output_type": "stream",
     "text": [
      "\n",
      "\n",
      "LogisticRegression LogisticRegression(max_iter=1000)\n",
      "\n",
      "confusion_matrix: \n",
      "\n",
      "[[3649 1524]\n",
      " [1158 3894]]\n",
      "\n",
      "\n",
      "Accuracy: 73.77%\n",
      "Precision: 71.87%\n",
      "Recall: 77.08%\n",
      "F1 Score: 74.38%\n",
      "\n",
      "\n",
      "Naive Bayes GaussianNB()\n",
      "\n",
      "confusion_matrix: \n",
      "\n",
      "[[4973  200]\n",
      " [3602 1450]]\n",
      "\n",
      "\n",
      "Accuracy: 62.82%\n",
      "Precision: 87.88%\n",
      "Recall: 28.70%\n",
      "F1 Score: 43.27%\n",
      "\n",
      "\n",
      "KNN KNeighborsClassifier(n_neighbors=3)\n",
      "\n",
      "confusion_matrix: \n",
      "\n",
      "[[4223  950]\n",
      " [ 694 4358]]\n",
      "\n",
      "\n",
      "Accuracy: 83.92%\n",
      "Precision: 82.10%\n",
      "Recall: 86.26%\n",
      "F1 Score: 84.13%\n",
      "\n",
      "\n",
      "RandomForestClassifier RandomForestClassifier()\n",
      "\n",
      "confusion_matrix: \n",
      "\n",
      "[[4271  902]\n",
      " [ 561 4491]]\n",
      "\n",
      "\n",
      "Accuracy: 85.69%\n",
      "Precision: 83.27%\n",
      "Recall: 88.90%\n",
      "F1 Score: 85.99%\n",
      "\n",
      "\n",
      "DecisionTreeClassifier DecisionTreeClassifier()\n",
      "\n",
      "confusion_matrix: \n",
      "\n",
      "[[4261  912]\n",
      " [ 719 4333]]\n",
      "\n",
      "\n",
      "Accuracy: 84.05%\n",
      "Precision: 82.61%\n",
      "Recall: 85.77%\n",
      "F1 Score: 84.16%\n",
      "\n",
      "\n",
      " Neural Network Classifier() MLPClassifier()\n",
      "\n",
      "confusion_matrix: \n",
      "\n",
      "[[3707 1466]\n",
      " [ 602 4450]]\n",
      "\n",
      "\n",
      "Accuracy: 79.78%\n",
      "Precision: 75.22%\n",
      "Recall: 88.08%\n",
      "F1 Score: 81.15%\n",
      "\n",
      "\n",
      "XGBClassifier XGBClassifier(base_score=None, booster=None, callbacks=None,\n",
      "              colsample_bylevel=None, colsample_bynode=None,\n",
      "              colsample_bytree=None, device=None, early_stopping_rounds=None,\n",
      "              enable_categorical=False, eval_metric=None, feature_types=None,\n",
      "              gamma=None, grow_policy=None, importance_type=None,\n",
      "              interaction_constraints=None, learning_rate=None, max_bin=None,\n",
      "              max_cat_threshold=None, max_cat_to_onehot=None,\n",
      "              max_delta_step=None, max_depth=None, max_leaves=None,\n",
      "              min_child_weight=None, missing=nan, monotone_constraints=None,\n",
      "              multi_strategy=None, n_estimators=None, n_jobs=None,\n",
      "              num_parallel_tree=None, random_state=None, ...)\n",
      "\n",
      "confusion_matrix: \n",
      "\n",
      "[[4330  843]\n",
      " [ 571 4481]]\n",
      "\n",
      "\n",
      "Accuracy: 86.17%\n",
      "Precision: 84.17%\n",
      "Recall: 88.70%\n",
      "F1 Score: 86.37%\n"
     ]
    }
   ],
   "source": [
    "\n",
    "#models1.append(('SVM',SVC(kernel='linear')))\n",
    "#models1.append(('SVM', SVC(kernel='poly', degree=3, coef0=1, gamma='auto')))\n",
    "for name, model in models:\n",
    "    print('\\n')\n",
    "    print(name,model)\n",
    "    print()\n",
    "    model.fit(X_train, y_train)\n",
    "    y_pred = model.predict(X_test)\n",
    "    #changing the values into %\n",
    "    accuracy = accuracy_score(y_test, y_pred) * 100\n",
    "    precision = precision_score(y_test, y_pred) * 100\n",
    "    recall = recall_score(y_test, y_pred) * 100\n",
    "    f1 = f1_score(y_test, y_pred) * 100\n",
    "\n",
    "    print(\"confusion_matrix: \\n\")\n",
    "    print(confusion_matrix(y_test,y_pred))\n",
    "    print('\\n')\n",
    "    print(\"Accuracy: {:.2f}%\".format(accuracy))\n",
    "    print(\"Precision: {:.2f}%\".format(precision))\n",
    "    print(\"Recall: {:.2f}%\".format(recall))\n",
    "    print(\"F1 Score: {:.2f}%\".format(f1))\n",
    "    "
   ]
  },
  {
   "cell_type": "markdown",
   "id": "32c2ba3b-0cd6-4528-88b7-f2c6d464dddd",
   "metadata": {},
   "source": [
    "# Hyperparameter tuning using GridSearchCV"
   ]
  },
  {
   "cell_type": "code",
   "execution_count": null,
   "id": "9cc59345-a200-43c2-b532-c499219d29f7",
   "metadata": {},
   "outputs": [],
   "source": [
    "# Hyperparameter tuning using GridSearchCV\n",
    "# Prepare features and target variable\n",
    "X = df1.drop(columns=['income'])  # Features\n",
    "y = df1['income']  # Target variable\n",
    "# Split the data into training and testing sets\n",
    "X_train, X_test, y_train, y_test = train_test_split(X, y, test_size=0.2, random_state=42)\n",
    "# List of classifiers and their corresponding parameter grids\n",
    "models_param_grids = [\n",
    "    {\n",
    "        'classifier': [RandomForestClassifier()],\n",
    "        'classifier__n_estimators': [50, 100, 200],\n",
    "        'classifier__max_depth': [None, 10, 20],\n",
    "        'classifier__min_samples_split': [2, 5, 10]\n",
    "    },\n",
    "    {\n",
    "        'classifier': [XGBoostClassifier()],\n",
    "        'classifier__n_estimators': [50, 100, 200],\n",
    "        'classifier__learning_rate': [0.01, 0.1, 0.2],\n",
    "        'classifier__max_depth': [3, 4, 5],\n",
    "        'classifier__min_samples_split': [2, 5, 10]\n",
    "    },\n",
    "    {\n",
    "        'classifier': [SVC()],\n",
    "        'classifier__C': [0.1, 1, 10],\n",
    "        'classifier__kernel': ['linear', 'rbf']\n",
    "    },\n",
    "    {\n",
    "        'classifier': [LogisticRegression(max_iter=500)],\n",
    "        'classifier__C': [0.1, 1, 10],\n",
    "        'classifier__solver': ['liblinear', 'lbfgs']\n",
    "    },\n",
    "    {\n",
    "        'classifier': [DecisionTreeClassifier()],\n",
    "        'classifier__max_depth': [None, 10, 20],\n",
    "        'classifier__min_samples_split': [2, 5, 10]\n",
    "    }\n",
    "]\n",
    "# Loop through models and perform hyperparameter tuning\n",
    "best_models = []\n",
    "for param_grid in models_param_grids:\n",
    "    pipeline = Pipeline([\n",
    "        ('classifier', param_grid['classifier'][0])\n",
    "    ])\n",
    "    grid_search = GridSearchCV(pipeline, param_grid, cv=5, n_jobs=-1, verbose=1, scoring='accuracy')\n",
    "    grid_search.fit(X_train, y_train)\n",
    "    # Best model and parameters for the current classifier\n",
    "    best_params = grid_search.best_params_\n",
    "    best_score = grid_search.best_score_\n",
    "    best_model = grid_search.best_estimator_\n",
    "    print(f\"Model: {param_grid['classifier'][0].__class__.__name__}\")\n",
    "    print(f\"Best Parameters: {best_params}\")\n",
    "    print(f\"Best Score (Accuracy): {best_score:.4f}\")\n",
    "    # Save the best model from each classifier\n",
    "    best_models.append((best_model, best_score))\n",
    "# Evaluate the best models on the test set\n",
    "for model, score in best_models:\n",
    "    y_pred = model.predict(X_test)\n",
    "    test_accuracy = accuracy_score(y_test, y_pred)\n",
    "    print(f\"Test Accuracy for {model.named_steps['classifier'].__class__.__name__}: {test_accuracy:.4f}\")"
   ]
  },
  {
   "cell_type": "code",
   "execution_count": null,
   "id": "19a884db-4821-49f0-ac23-cc59888c87db",
   "metadata": {},
   "outputs": [],
   "source": [
    "# Hyperparameter tuning using RandomizedSearchCV"
   ]
  },
  {
   "cell_type": "code",
   "execution_count": null,
   "id": "be4199a3-1b1a-49ac-8ac5-c7c826a5d862",
   "metadata": {},
   "outputs": [],
   "source": [
    "# Hyperparameter tuning using RandomizedSearchCV\n",
    "from scipy.stats import randint\n",
    "from sklearn.model_selection import train_test_split, RandomizedSearchCV\n",
    "# Prepare features and target variable\n",
    "X = df1.drop(columns=['income'])  # Features\n",
    "y = df1['income']  # Target variable\n",
    "# Split the data into training and testing sets\n",
    "X_train, X_test, y_train, y_test = train_test_split(X, y, test_size=0.2, random_state=42)\n",
    "# List of classifiers and their corresponding random search parameter distributions\n",
    "models_param_distributions = [\n",
    "    {\n",
    "        'classifier': [RandomForestClassifier()],\n",
    "        'classifier__n_estimators': randint(50, 200),\n",
    "        'classifier__max_depth': [None, 10, 20],\n",
    "        'classifier__min_samples_split': randint(2, 10)\n",
    "    },\n",
    "    {\n",
    "        'classifier': [XGBoostClassifier()],\n",
    "        'classifier__n_estimators': randint(50, 200),\n",
    "        'classifier__learning_rate': [0.01, 0.1, 0.2],\n",
    "        'classifier__max_depth': randint(3, 5),\n",
    "        'classifier__min_samples_split': randint(2, 10)\n",
    "    },\n",
    "    {\n",
    "        'classifier': [SVC()],\n",
    "        'classifier__C': [0.1, 1, 10],\n",
    "        'classifier__kernel': ['linear', 'rbf']\n",
    "    },\n",
    "    {\n",
    "        'classifier': [LogisticRegression(max_iter=500)],\n",
    "        'classifier__C': [0.1, 1, 10],\n",
    "        'classifier__solver': ['liblinear', 'lbfgs']\n",
    "    },\n",
    "    {\n",
    "        'classifier': [DecisionTreeClassifier()],\n",
    "        'classifier__max_depth': [None, 10, 20],\n",
    "        'classifier__min_samples_split': randint(2, 10)\n",
    "    }\n",
    "]\n",
    "# Loop through models and perform hyperparameter tuning using RandomizedSearchCV\n",
    "best_models = []\n",
    "for param_distribution in models_param_distributions:\n",
    "    pipeline = Pipeline([\n",
    "        ('classifier', param_distribution['classifier'][0])\n",
    "    ])\n",
    "    random_search = RandomizedSearchCV(\n",
    "        pipeline,\n",
    "        param_distribution,\n",
    "        cv=5,\n",
    "        n_iter=10,  # Number of parameter settings to sample\n",
    "        n_jobs=-1,\n",
    "        verbose=1,\n",
    "        scoring='accuracy',\n",
    "        random_state=42\n",
    "    )\n",
    "    random_search.fit(X_train, y_train)\n",
    "    # Best model and parameters for the current classifier\n",
    "    best_params = random_search.best_params_\n",
    "    best_score = random_search.best_score_\n",
    "    best_model = random_search.best_estimator_\n",
    "    print(f\"Model: {param_distribution['classifier'][0].__class__.__name__}\")\n",
    "    print(f\"Best Parameters: {best_params}\")\n",
    "    print(f\"Best Score (Accuracy): {best_score:.4f}\")\n",
    "    # Save the best model from each classifier\n",
    "    best_models.append((best_model, best_score))\n",
    "# Evaluate the best models on the test set\n",
    "for model, score in best_models:\n",
    "    y_pred = model.predict(X_test)\n",
    "    test_accuracy = accuracy_score(y_test, y_pred)\n",
    "    print(f\"Test Accuracy for {model.named_steps['classifier'].__class__.__name__}: {test_accuracy:.4f}\")"
   ]
  },
  {
   "cell_type": "code",
   "execution_count": null,
   "id": "fc18fe10-9cab-417f-b710-40f60a9f5009",
   "metadata": {},
   "outputs": [],
   "source": []
  }
 ],
 "metadata": {
  "kernelspec": {
   "display_name": "Python 3 (ipykernel)",
   "language": "python",
   "name": "python3"
  },
  "language_info": {
   "codemirror_mode": {
    "name": "ipython",
    "version": 3
   },
   "file_extension": ".py",
   "mimetype": "text/x-python",
   "name": "python",
   "nbconvert_exporter": "python",
   "pygments_lexer": "ipython3",
   "version": "3.11.7"
  }
 },
 "nbformat": 4,
 "nbformat_minor": 5
}
